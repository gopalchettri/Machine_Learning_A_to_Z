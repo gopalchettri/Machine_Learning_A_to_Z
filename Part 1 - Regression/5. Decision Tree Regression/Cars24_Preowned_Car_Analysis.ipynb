{
 "cells": [
  {
   "cell_type": "markdown",
   "metadata": {},
   "source": [
    "## Importing required libraries"
   ]
  },
  {
   "cell_type": "code",
   "execution_count": 26,
   "metadata": {},
   "outputs": [],
   "source": [
    "from bs4 import BeautifulSoup\n",
    "from selenium import webdriver\n",
    "\n",
    "import requests\n",
    "import re\n",
    "import time\n",
    "from datetime import datetime\n",
    "\n",
    "import pandas as pd\n",
    "import numpy as np\n",
    "import seaborn as sns\n",
    "import matplotlib.pyplot as plt\n",
    "%matplotlib inline  \n",
    "\n",
    "from mpl_toolkits.mplot3d import Axes3D"
   ]
  },
  {
   "cell_type": "markdown",
   "metadata": {},
   "source": [
    "## Gathering cars data from website\n",
    "\n",
    "<span> I will be using www.cars24.com </span>"
   ]
  },
  {
   "cell_type": "code",
   "execution_count": 2,
   "metadata": {},
   "outputs": [],
   "source": [
    "def get_car_data(url, file_name):\n",
    "    driver = webdriver.Chrome('C:\\\\Users\\\\gopal\\\\Downloads\\\\chromedriver_win32\\\\chromedriver.exe')\n",
    "    driver.get(url)\n",
    "    scrollnumber_H = 500\n",
    "    file = open(file_name, 'w', encoding='utf-8')\n",
    "    for i in range(1, scrollnumber_H):\n",
    "        driver.execute_script(\"window.scrollTo(1,3000)\")\n",
    "        #time.sleep(1)\n",
    "        #file = open(file_name, 'w', encoding='utf-8')\n",
    "        #print(\"file_opened\")\n",
    "        file.write(driver.page_source)\n",
    "    file.close()\n",
    "    \n",
    "    driver.close()\n",
    "    #return file"
   ]
  },
  {
   "cell_type": "markdown",
   "metadata": {},
   "source": [
    "### New Delhi Cars"
   ]
  },
  {
   "cell_type": "code",
   "execution_count": 3,
   "metadata": {},
   "outputs": [],
   "source": [
    "# url = 'https://www.cars24.com/buy-used-cars-new-delhi/?itm_source=Cars24Website&itm_medium=sticky_header'\n",
    "file_name = 'cars24_Delhi.html'\n",
    "# get_car_data(url, file_name)\n",
    "data_ND = open(file_name,'r')\n",
    "soup_ND = BeautifulSoup(data_ND, 'html.parser')"
   ]
  },
  {
   "cell_type": "markdown",
   "metadata": {},
   "source": [
    "## Noida Cars"
   ]
  },
  {
   "cell_type": "code",
   "execution_count": 4,
   "metadata": {},
   "outputs": [],
   "source": [
    "# url = 'https://www.cars24.com/buy-used-car?sort=P&storeCityId=134&pinId=201301'\n",
    "file_name = 'cars24_Noida.html'\n",
    "# file = get_car_data(url, file_name)\n",
    "\n",
    "data_NO = open(file_name,'r')\n",
    "soup_NO = BeautifulSoup(data_NO, 'html.parser')"
   ]
  },
  {
   "cell_type": "markdown",
   "metadata": {},
   "source": [
    "## Gurugram Cars"
   ]
  },
  {
   "cell_type": "code",
   "execution_count": 5,
   "metadata": {},
   "outputs": [],
   "source": [
    "# url = 'https://www.cars24.com/buy-used-car?sort=P&storeCityId=5&pinId=122001'\n",
    "file_name = 'cars24_Gurugram.html'\n",
    "# file = get_car_data(url, file_name)\n",
    "\n",
    "data_GM = open(file_name, 'r')\n",
    "soup_GM = BeautifulSoup(data_GM, 'html.parser')"
   ]
  },
  {
   "cell_type": "markdown",
   "metadata": {},
   "source": [
    "## Mumbai Cars"
   ]
  },
  {
   "cell_type": "code",
   "execution_count": 6,
   "metadata": {},
   "outputs": [],
   "source": [
    "# url ='https://www.cars24.com/buy-used-car?sort=P&storeCityId=2378&pinId=400001'\n",
    "file_name = 'cars24_Mumbai.html'\n",
    "# file = get_car_data(url, file_name)\n",
    "\n",
    "data_MUM = open(file_name, 'r')\n",
    "soup_MUM = BeautifulSoup(data_MUM, 'html.parser')"
   ]
  },
  {
   "cell_type": "markdown",
   "metadata": {},
   "source": [
    "## Pune Cars"
   ]
  },
  {
   "cell_type": "code",
   "execution_count": 7,
   "metadata": {},
   "outputs": [],
   "source": [
    "# url = 'https://www.cars24.com/buy-used-car?sort=P&storeCityId=2423&pinId=411001'\n",
    "file_name = 'cars24_Pune.html'\n",
    "# file = get_car_data(url, file_name)\n",
    "\n",
    "data_PN = open(file_name, 'r')\n",
    "soup_PN = BeautifulSoup(data_PN, 'html.parser')"
   ]
  },
  {
   "cell_type": "markdown",
   "metadata": {},
   "source": [
    "## Banglore Cars"
   ]
  },
  {
   "cell_type": "code",
   "execution_count": 8,
   "metadata": {},
   "outputs": [],
   "source": [
    "# url = 'https://www.cars24.com/buy-used-car?sort=P&storeCityId=4709&pinId=560001'\n",
    "file_name = 'cars24_Banglore.html'\n",
    "# file = get_car_data(url, file_name)\n",
    "\n",
    "data_BAN = open(file_name, 'r')\n",
    "soup_BAN = BeautifulSoup(data_BAN, 'html.parser')"
   ]
  },
  {
   "cell_type": "markdown",
   "metadata": {},
   "source": [
    "## Hyderabad Cars"
   ]
  },
  {
   "cell_type": "code",
   "execution_count": 9,
   "metadata": {},
   "outputs": [],
   "source": [
    "# url = 'https://www.cars24.com/buy-used-car?sort=P&storeCityId=3686&pinId=500001'\n",
    "file_name = 'cars24_Hyderabad.html'\n",
    "# file = get_car_data(url, file_name)\n",
    "\n",
    "data_HY = open(file_name, 'r')\n",
    "soup_HY = BeautifulSoup(data_HY, 'html.parser')"
   ]
  },
  {
   "cell_type": "markdown",
   "metadata": {},
   "source": [
    "## Chennai Cars"
   ]
  },
  {
   "cell_type": "code",
   "execution_count": 10,
   "metadata": {},
   "outputs": [],
   "source": [
    "# url = 'https://www.cars24.com/buy-used-car?sort=P&storeCityId=5732&pinId=600001'\n",
    "file_name = 'cars_24_Chennai.html'\n",
    "# file = get_car_data(url, file_name)\n",
    "\n",
    "data_CN = open(file_name, 'r')\n",
    "soup_CN = BeautifulSoup(data_CN, 'html.parser')"
   ]
  },
  {
   "cell_type": "markdown",
   "metadata": {},
   "source": [
    "## Kolkata Cars"
   ]
  },
  {
   "cell_type": "code",
   "execution_count": 11,
   "metadata": {},
   "outputs": [],
   "source": [
    "# url = 'https://www.cars24.com/buy-used-car?sort=P&storeCityId=777&pinId=700001'\n",
    "file_name = 'cars_24_Kolkata.html'\n",
    "# file = get_car_data(url, file_name)\n",
    "\n",
    "data_KOL = open(file_name, 'r')\n",
    "soup_KOL = BeautifulSoup(data_KOL, 'html.parser')"
   ]
  },
  {
   "cell_type": "markdown",
   "metadata": {},
   "source": [
    "## Ahmedabad Cars"
   ]
  },
  {
   "cell_type": "code",
   "execution_count": 12,
   "metadata": {},
   "outputs": [],
   "source": [
    "# url = 'https://www.cars24.com/buy-used-car?sort=P&storeCityId=1692&pinId=380001'\n",
    "file_name = 'cars_24_Ahmedabad.html'\n",
    "# file = get_car_data(url, file_name)\n",
    "\n",
    "data_AH = open(file_name, 'r')\n",
    "soup_AH = BeautifulSoup(data_AH, 'html.parser')"
   ]
  },
  {
   "cell_type": "markdown",
   "metadata": {},
   "source": [
    "## Faridabad Cars"
   ]
  },
  {
   "cell_type": "code",
   "execution_count": 13,
   "metadata": {},
   "outputs": [],
   "source": [
    "# url= 'https://www.cars24.com/buy-used-car?sort=P&storeCityId=6&pinId=121001'\n",
    "file_name = 'cars_24_Faridabad.html'\n",
    "# file = get_car_data(url, file_name)\n",
    "\n",
    "data_FB = open(file_name, 'r')\n",
    "soup_FB = BeautifulSoup(data_FB, 'html.parser')"
   ]
  },
  {
   "cell_type": "markdown",
   "metadata": {},
   "source": [
    "### Storing different classes from html which holds data we are interested in"
   ]
  },
  {
   "cell_type": "code",
   "execution_count": 14,
   "metadata": {},
   "outputs": [],
   "source": [
    "main_div = 'col-4'\n",
    "sub_div = '_1l4fi'\n",
    "subsub_div = {'name':'_1jpRU','price':'_7udZZ','emi':'_2HFRN' , 'features':'bVR0c'}"
   ]
  },
  {
   "cell_type": "markdown",
   "metadata": {},
   "source": [
    "### Creating empty list to store all the details"
   ]
  },
  {
   "cell_type": "code",
   "execution_count": 15,
   "metadata": {},
   "outputs": [],
   "source": [
    "name_ND, name_NO, name_GM, name_MUM, name_PN, name_BAN, name_HY, name_CN, name_KOL, name_AH, name_FB = [], [],[], [],[], [],[], [],[], [],[] \n",
    "\n",
    "price_ND, price_NO, price_GM, price_MUM, price_PN, price_BAN, price_HY, price_CN, price_KOL, price_AH, price_FB = [], [],[], [],[], [],[], [],[], [],[] \n",
    "\n",
    "emi_ND, emi_NO, emi_GM, emi_MUM, emi_PN, emi_BAN, emi_HY, emi_CN, emi_KOL, emi_AH, emi_FB = [], [],[], [],[], [],[], [],[], [],[] \n",
    "\n",
    "features_ND, features_NO, features_GM, features_MUM, features_PN, features_BAN, features_HY, features_CN, features_KOL, features_AH, features_FB = [], [],[], [],[], [],[], [],[], [],[] \n",
    "\n",
    "city_ND, city_NO, city_GM, city_MUM, city_PN, city_BAN, city_HY, city_CN, city_KOL, city_AH, city_FB = [], [],[], [],[], [],[], [],[], [],[] "
   ]
  },
  {
   "cell_type": "code",
   "execution_count": 16,
   "metadata": {},
   "outputs": [],
   "source": [
    "name = []\n",
    "price = []\n",
    "emi = []\n",
    "features = []\n",
    "city = []"
   ]
  },
  {
   "cell_type": "code",
   "execution_count": 17,
   "metadata": {},
   "outputs": [],
   "source": [
    "soups = [soup_ND, soup_NO, soup_GM, soup_MUM, soup_PN, soup_BAN, soup_HY, soup_CN, soup_KOL, soup_AH, soup_FB]"
   ]
  },
  {
   "cell_type": "code",
   "execution_count": 18,
   "metadata": {},
   "outputs": [],
   "source": [
    "# New Delhi\n",
    "\n",
    "for x in soup_ND.find_all('div',{'class':main_div}):\n",
    "        for i in x.find_all('div',{'class':sub_div}):\n",
    "    \n",
    "            try:\n",
    "                a = i.find('div',{'class':subsub_div['name']})\n",
    "                name_ND.append(a.text)\n",
    "            except:\n",
    "                name_ND.append(np.nan)\n",
    "            \n",
    "            try:\n",
    "                a = i.find('div',{'class':subsub_div['price']})\n",
    "                price_ND.append(a.text)\n",
    "            except:\n",
    "                price_ND.append(np.nan)\n",
    "        \n",
    "    \n",
    "            try:\n",
    "                a = i.find('div',{'class':subsub_div['emi']})\n",
    "                emi_ND.append(a.text)\n",
    "            except:\n",
    "                emi_ND.append(np.nan)\n",
    "        \n",
    "            try:\n",
    "                a = i.find('ul',{'class':subsub_div['features']})\n",
    "                features_ND.append(\"\\n\".join([subsub_div.text for subsub_div in a]))\n",
    "            except:\n",
    "                features_ND.append(np.nan)\n",
    "            try:\n",
    "                city_ND.append('New Delhi')\n",
    "            except:\n",
    "                city_ND.append(np.nan)"
   ]
  },
  {
   "cell_type": "code",
   "execution_count": 19,
   "metadata": {},
   "outputs": [],
   "source": [
    "# Noida\n",
    "\n",
    "for x in soup_NO.find_all('div',{'class':main_div}):\n",
    "        for i in x.find_all('div',{'class':sub_div}):\n",
    "    \n",
    "            try:\n",
    "                a = i.find('div',{'class':subsub_div['name']})\n",
    "                name_NO.append(a.text)\n",
    "            except:\n",
    "                name_NO.append(np.nan)\n",
    "            \n",
    "            try:\n",
    "                a = i.find('div',{'class':subsub_div['price']})\n",
    "                price_NO.append(a.text)\n",
    "            except:\n",
    "                price_NO.append(np.nan)\n",
    "        \n",
    "    \n",
    "            try:\n",
    "                a = i.find('div',{'class':subsub_div['emi']})\n",
    "                emi_NO.append(a.text)\n",
    "            except:\n",
    "                emi_NO.append(np.nan)\n",
    "        \n",
    "            try:\n",
    "                a = i.find('ul',{'class':subsub_div['features']})\n",
    "                features_NO.append(\"\\n\".join([subsub_div.text for subsub_div in a]))\n",
    "            except:\n",
    "                features_NO.append(np.nan)\n",
    "            try:\n",
    "                city_NO.append('Noida')\n",
    "            except:\n",
    "                city_NO.append(np.nan)"
   ]
  },
  {
   "cell_type": "code",
   "execution_count": 20,
   "metadata": {},
   "outputs": [],
   "source": [
    "# Gurugram\n",
    "\n",
    "for x in soup_GM.find_all('div',{'class':main_div}):\n",
    "        for i in x.find_all('div',{'class':sub_div}):\n",
    "    \n",
    "            try:\n",
    "                a = i.find('div',{'class':subsub_div['name']})\n",
    "                name_GM.append(a.text)\n",
    "            except:\n",
    "                name_GM.append(np.nan)\n",
    "            \n",
    "            try:\n",
    "                a = i.find('div',{'class':subsub_div['price']})\n",
    "                price_GM.append(a.text)\n",
    "            except:\n",
    "                price_GM.append(np.nan)\n",
    "        \n",
    "    \n",
    "            try:\n",
    "                a = i.find('div',{'class':subsub_div['emi']})\n",
    "                emi_GM.append(a.text)\n",
    "            except:\n",
    "                emi_GM.append(np.nan)\n",
    "        \n",
    "            try:\n",
    "                a = i.find('ul',{'class':subsub_div['features']})\n",
    "                features_GM.append(\"\\n\".join([subsub_div.text for subsub_div in a]))\n",
    "            except:\n",
    "                features_GM.append(np.nan)\n",
    "            try:\n",
    "                city_GM.append('Gurugram')\n",
    "            except:\n",
    "                city_GM.append(np.nan)"
   ]
  },
  {
   "cell_type": "code",
   "execution_count": 21,
   "metadata": {},
   "outputs": [],
   "source": [
    "# Mumbai\n",
    "\n",
    "for x in soup_MUM.find_all('div',{'class':main_div}):\n",
    "        for i in x.find_all('div',{'class':sub_div}):\n",
    "    \n",
    "            try:\n",
    "                a = i.find('div',{'class':subsub_div['name']})\n",
    "                name_MUM.append(a.text)\n",
    "            except:\n",
    "                name_MUM.append(np.nan)\n",
    "            \n",
    "            try:\n",
    "                a = i.find('div',{'class':subsub_div['price']})\n",
    "                price_MUM.append(a.text)\n",
    "            except:\n",
    "                price_MUM.append(np.nan)\n",
    "        \n",
    "    \n",
    "            try:\n",
    "                a = i.find('div',{'class':subsub_div['emi']})\n",
    "                emi_MUM.append(a.text)\n",
    "            except:\n",
    "                emi_MUM.append(np.nan)\n",
    "        \n",
    "            try:\n",
    "                a = i.find('ul',{'class':subsub_div['features']})\n",
    "                features_MUM.append(\"\\n\".join([subsub_div.text for subsub_div in a]))\n",
    "            except:\n",
    "                features_MUM.append(np.nan)\n",
    "            try:\n",
    "                city_MUM.append('Mumbai')\n",
    "            except:\n",
    "                city_MUM.append(np.nan)"
   ]
  },
  {
   "cell_type": "code",
   "execution_count": 22,
   "metadata": {},
   "outputs": [],
   "source": [
    "# Pune\n",
    "\n",
    "for x in soup_PN.find_all('div',{'class':main_div}):\n",
    "        for i in x.find_all('div',{'class':sub_div}):\n",
    "    \n",
    "            try:\n",
    "                a = i.find('div',{'class':subsub_div['name']})\n",
    "                name_PN.append(a.text)\n",
    "            except:\n",
    "                name_PN.append(np.nan)\n",
    "            \n",
    "            try:\n",
    "                a = i.find('div',{'class':subsub_div['price']})\n",
    "                price_PN.append(a.text)\n",
    "            except:\n",
    "                price_PN.append(np.nan)\n",
    "        \n",
    "    \n",
    "            try:\n",
    "                a = i.find('div',{'class':subsub_div['emi']})\n",
    "                emi_PN.append(a.text)\n",
    "            except:\n",
    "                emi_PN.append(np.nan)\n",
    "        \n",
    "            try:\n",
    "                a = i.find('ul',{'class':subsub_div['features']})\n",
    "                features_PN.append(\"\\n\".join([subsub_div.text for subsub_div in a]))\n",
    "            except:\n",
    "                features_PN.append(np.nan)\n",
    "            try:\n",
    "                city_PN.append('Pune')\n",
    "            except:\n",
    "                city_PN.append(np.nan)"
   ]
  },
  {
   "cell_type": "code",
   "execution_count": 23,
   "metadata": {},
   "outputs": [],
   "source": [
    "# Banglore\n",
    "\n",
    "for x in soup_BAN.find_all('div',{'class':main_div}):\n",
    "        for i in x.find_all('div',{'class':sub_div}):\n",
    "    \n",
    "            try:\n",
    "                a = i.find('div',{'class':subsub_div['name']})\n",
    "                name_BAN.append(a.text)\n",
    "            except:\n",
    "                name_BAN.append(np.nan)\n",
    "            \n",
    "            try:\n",
    "                a = i.find('div',{'class':subsub_div['price']})\n",
    "                price_BAN.append(a.text)\n",
    "            except:\n",
    "                price_BAN.append(np.nan)\n",
    "        \n",
    "    \n",
    "            try:\n",
    "                a = i.find('div',{'class':subsub_div['emi']})\n",
    "                emi_BAN.append(a.text)\n",
    "            except:\n",
    "                emi_BAN.append(np.nan)\n",
    "        \n",
    "            try:\n",
    "                a = i.find('ul',{'class':subsub_div['features']})\n",
    "                features_BAN.append(\"\\n\".join([subsub_div.text for subsub_div in a]))\n",
    "            except:\n",
    "                features_BAN.append(np.nan)\n",
    "            try:\n",
    "                city_BAN.append('Banglore')\n",
    "            except:\n",
    "                city_BAN.append(np.nan)"
   ]
  },
  {
   "cell_type": "code",
   "execution_count": 24,
   "metadata": {},
   "outputs": [],
   "source": [
    "# Hyderabad\n",
    "\n",
    "for x in soup_HY.find_all('div',{'class':main_div}):\n",
    "        for i in x.find_all('div',{'class':sub_div}):\n",
    "    \n",
    "            try:\n",
    "                a = i.find('div',{'class':subsub_div['name']})\n",
    "                name_HY.append(a.text)\n",
    "            except:\n",
    "                name_HY.append(np.nan)\n",
    "            \n",
    "            try:\n",
    "                a = i.find('div',{'class':subsub_div['price']})\n",
    "                price_HY.append(a.text)\n",
    "            except:\n",
    "                price_HY.append(np.nan)\n",
    "        \n",
    "    \n",
    "            try:\n",
    "                a = i.find('div',{'class':subsub_div['emi']})\n",
    "                emi_HY.append(a.text)\n",
    "            except:\n",
    "                emi_HY.append(np.nan)\n",
    "        \n",
    "            try:\n",
    "                a = i.find('ul',{'class':subsub_div['features']})\n",
    "                features_HY.append(\"\\n\".join([subsub_div.text for subsub_div in a]))\n",
    "            except:\n",
    "                features_HY.append(np.nan)\n",
    "            try:\n",
    "                city_HY.append('Hyderabad')\n",
    "            except:\n",
    "                city_HY.append(np.nan)"
   ]
  },
  {
   "cell_type": "code",
   "execution_count": 25,
   "metadata": {},
   "outputs": [],
   "source": [
    "# Chennai\n",
    "\n",
    "for x in soup_CN.find_all('div',{'class':main_div}):\n",
    "        for i in x.find_all('div',{'class':sub_div}):\n",
    "    \n",
    "            try:\n",
    "                a = i.find('div',{'class':subsub_div['name']})\n",
    "                name_CN.append(a.text)\n",
    "            except:\n",
    "                name_CN.append(np.nan)\n",
    "            \n",
    "            try:\n",
    "                a = i.find('div',{'class':subsub_div['price']})\n",
    "                price_CN.append(a.text)\n",
    "            except:\n",
    "                price_CN.append(np.nan)\n",
    "        \n",
    "    \n",
    "            try:\n",
    "                a = i.find('div',{'class':subsub_div['emi']})\n",
    "                emi_CN.append(a.text)\n",
    "            except:\n",
    "                emi_CN.append(np.nan)\n",
    "        \n",
    "            try:\n",
    "                a = i.find('ul',{'class':subsub_div['features']})\n",
    "                features_CN.append(\"\\n\".join([subsub_div.text for subsub_div in a]))\n",
    "            except:\n",
    "                features_CN.append(np.nan)\n",
    "            try:\n",
    "                city_CN.append('Chennai')\n",
    "            except:\n",
    "                city_CN.append(np.nan)"
   ]
  },
  {
   "cell_type": "code",
   "execution_count": 26,
   "metadata": {},
   "outputs": [],
   "source": [
    "# Kolkata\n",
    "\n",
    "for x in soup_KOL.find_all('div',{'class':main_div}):\n",
    "        for i in x.find_all('div',{'class':sub_div}):\n",
    "    \n",
    "            try:\n",
    "                a = i.find('div',{'class':subsub_div['name']})\n",
    "                name_KOL.append(a.text)\n",
    "            except:\n",
    "                name_KOL.append(np.nan)\n",
    "            \n",
    "            try:\n",
    "                a = i.find('div',{'class':subsub_div['price']})\n",
    "                price_KOL.append(a.text)\n",
    "            except:\n",
    "                price_KOL.append(np.nan)\n",
    "        \n",
    "    \n",
    "            try:\n",
    "                a = i.find('div',{'class':subsub_div['emi']})\n",
    "                emi_KOL.append(a.text)\n",
    "            except:\n",
    "                emi_KOL.append(np.nan)\n",
    "        \n",
    "            try:\n",
    "                a = i.find('ul',{'class':subsub_div['features']})\n",
    "                features_KOL.append(\"\\n\".join([subsub_div.text for subsub_div in a]))\n",
    "            except:\n",
    "                features_KOL.append(np.nan)\n",
    "            try:\n",
    "                city_KOL.append('Kolkata')\n",
    "            except:\n",
    "                city_KOL.append(np.nan)"
   ]
  },
  {
   "cell_type": "code",
   "execution_count": 27,
   "metadata": {},
   "outputs": [],
   "source": [
    "# Ahmedabad\n",
    "\n",
    "for x in soup_AH.find_all('div',{'class':main_div}):\n",
    "        for i in x.find_all('div',{'class':sub_div}):\n",
    "    \n",
    "            try:\n",
    "                a = i.find('div',{'class':subsub_div['name']})\n",
    "                name_AH.append(a.text)\n",
    "            except:\n",
    "                name_AH.append(np.nan)\n",
    "            \n",
    "            try:\n",
    "                a = i.find('div',{'class':subsub_div['price']})\n",
    "                price_AH.append(a.text)\n",
    "            except:\n",
    "                price_AH.append(np.nan)\n",
    "        \n",
    "    \n",
    "            try:\n",
    "                a = i.find('div',{'class':subsub_div['emi']})\n",
    "                emi_AH.append(a.text)\n",
    "            except:\n",
    "                emi_AH.append(np.nan)\n",
    "        \n",
    "            try:\n",
    "                a = i.find('ul',{'class':subsub_div['features']})\n",
    "                features_AH.append(\"\\n\".join([subsub_div.text for subsub_div in a]))\n",
    "            except:\n",
    "                features_AH.append(np.nan)\n",
    "            try:\n",
    "                city_AH.append('Ahemdabad')\n",
    "            except:\n",
    "                city_AH.append(np.nan)"
   ]
  },
  {
   "cell_type": "code",
   "execution_count": 28,
   "metadata": {},
   "outputs": [],
   "source": [
    "# Faridabad\n",
    "\n",
    "for x in soup_FB.find_all('div',{'class':main_div}):\n",
    "        for i in x.find_all('div',{'class':sub_div}):\n",
    "    \n",
    "            try:\n",
    "                a = i.find('div',{'class':subsub_div['name']})\n",
    "                name_FB.append(a.text)\n",
    "            except:\n",
    "                name_FB.append(np.nan)\n",
    "            \n",
    "            try:\n",
    "                a = i.find('div',{'class':subsub_div['price']})\n",
    "                price_FB.append(a.text)\n",
    "            except:\n",
    "                price_FB.append(np.nan)\n",
    "        \n",
    "    \n",
    "            try:\n",
    "                a = i.find('div',{'class':subsub_div['emi']})\n",
    "                emi_FB.append(a.text)\n",
    "            except:\n",
    "                emi_FB.append(np.nan)\n",
    "        \n",
    "            try:\n",
    "                a = i.find('ul',{'class':subsub_div['features']})\n",
    "                features_FB.append(\"\\n\".join([subsub_div.text for subsub_div in a]))\n",
    "            except:\n",
    "                features_FB.append(np.nan)\n",
    "            try:\n",
    "                city_FB.append('Faridabad')\n",
    "            except:\n",
    "                city_FB.append(np.nan)"
   ]
  },
  {
   "cell_type": "code",
   "execution_count": 29,
   "metadata": {},
   "outputs": [],
   "source": [
    "# Appending all the list to main list\n",
    "\n",
    "name = name + name_ND + name_NO + name_GM + name_MUM + name_PN + name_BAN + name_HY + name_CN + name_KOL + name_AH + name_FB\n",
    "price = price + price_ND + price_NO + price_GM + price_MUM + price_PN + price_BAN + price_HY + price_CN + price_KOL + price_AH + price_FB\n",
    "emi = emi + emi_ND + emi_NO + emi_GM + emi_MUM + emi_PN + emi_BAN + emi_HY + emi_CN + emi_KOL + emi_AH + emi_FB\n",
    "features = features + features_ND + features_NO + features_GM + features_MUM + features_PN + features_BAN + features_HY + features_CN + features_KOL + features_AH + features_FB\n",
    "city = city + city_ND + city_NO + city_GM + city_MUM + city_PN + city_BAN + city_HY + city_CN + city_KOL + city_AH + city_FB"
   ]
  },
  {
   "cell_type": "markdown",
   "metadata": {},
   "source": [
    "### Checking whether all the elements stored have same length or not"
   ]
  },
  {
   "cell_type": "code",
   "execution_count": 30,
   "metadata": {},
   "outputs": [
    {
     "name": "stdout",
     "output_type": "stream",
     "text": [
      "101280\n",
      "101280\n",
      "101280\n",
      "101280\n",
      "101280\n"
     ]
    }
   ],
   "source": [
    "print(len(name))\n",
    "print(len(price))\n",
    "print(len(emi))\n",
    "print(len(features))\n",
    "print(len(city))"
   ]
  },
  {
   "cell_type": "markdown",
   "metadata": {},
   "source": [
    "### Creating a Data Frame"
   ]
  },
  {
   "cell_type": "code",
   "execution_count": 31,
   "metadata": {},
   "outputs": [],
   "source": [
    "df = pd.DataFrame({\"Car Name\":name, \"Price\":price, \"EMI\":emi, \"Features\":features, \"Location\":city})"
   ]
  },
  {
   "cell_type": "code",
   "execution_count": 32,
   "metadata": {},
   "outputs": [
    {
     "data": {
      "text/html": [
       "<div>\n",
       "<style scoped>\n",
       "    .dataframe tbody tr th:only-of-type {\n",
       "        vertical-align: middle;\n",
       "    }\n",
       "\n",
       "    .dataframe tbody tr th {\n",
       "        vertical-align: top;\n",
       "    }\n",
       "\n",
       "    .dataframe thead th {\n",
       "        text-align: right;\n",
       "    }\n",
       "</style>\n",
       "<table border=\"1\" class=\"dataframe\">\n",
       "  <thead>\n",
       "    <tr style=\"text-align: right;\">\n",
       "      <th></th>\n",
       "      <th>Car Name</th>\n",
       "      <th>Price</th>\n",
       "      <th>EMI</th>\n",
       "      <th>Features</th>\n",
       "      <th>Location</th>\n",
       "    </tr>\n",
       "  </thead>\n",
       "  <tbody>\n",
       "    <tr>\n",
       "      <th>0</th>\n",
       "      <td>2015 Maruti SwiftVDI ABS Manual</td>\n",
       "      <td>â‚¹4,05,199</td>\n",
       "      <td>â‚¹9,013/month</td>\n",
       "      <td>37,925 km\\n1st Owner\\nDiesel</td>\n",
       "      <td>New Delhi</td>\n",
       "    </tr>\n",
       "    <tr>\n",
       "      <th>1</th>\n",
       "      <td>2019 Maruti XL6ALPHA SHVS  MT Manual</td>\n",
       "      <td>â‚¹9,78,999</td>\n",
       "      <td>â‚¹21,777/month</td>\n",
       "      <td>11,659 km\\n1st Owner\\nPetrol</td>\n",
       "      <td>New Delhi</td>\n",
       "    </tr>\n",
       "    <tr>\n",
       "      <th>2</th>\n",
       "      <td>2017 Ford New Figo1.5 TITANIUM Manual</td>\n",
       "      <td>â‚¹4,82,699</td>\n",
       "      <td>â‚¹10,737/month</td>\n",
       "      <td>41,678 km\\n2nd Owner\\nDiesel</td>\n",
       "      <td>New Delhi</td>\n",
       "    </tr>\n",
       "    <tr>\n",
       "      <th>3</th>\n",
       "      <td>2014 Maruti CiazVDI PLUS Manual</td>\n",
       "      <td>â‚¹5,25,199</td>\n",
       "      <td>â‚¹11,683/month</td>\n",
       "      <td>62,366 km\\n1st Owner\\nDiesel</td>\n",
       "      <td>New Delhi</td>\n",
       "    </tr>\n",
       "    <tr>\n",
       "      <th>4</th>\n",
       "      <td>2016 Maruti Vitara BrezzaZDI Manual</td>\n",
       "      <td>â‚¹6,35,399</td>\n",
       "      <td>â‚¹14,134/month</td>\n",
       "      <td>70,555 km\\n2nd Owner\\nDiesel</td>\n",
       "      <td>New Delhi</td>\n",
       "    </tr>\n",
       "  </tbody>\n",
       "</table>\n",
       "</div>"
      ],
      "text/plain": [
       "                                Car Name        Price              EMI  \\\n",
       "0        2015 Maruti SwiftVDI ABS Manual  â‚¹4,05,199   â‚¹9,013/month   \n",
       "1   2019 Maruti XL6ALPHA SHVS  MT Manual  â‚¹9,78,999  â‚¹21,777/month   \n",
       "2  2017 Ford New Figo1.5 TITANIUM Manual  â‚¹4,82,699  â‚¹10,737/month   \n",
       "3        2014 Maruti CiazVDI PLUS Manual  â‚¹5,25,199  â‚¹11,683/month   \n",
       "4    2016 Maruti Vitara BrezzaZDI Manual  â‚¹6,35,399  â‚¹14,134/month   \n",
       "\n",
       "                       Features   Location  \n",
       "0  37,925 km\\n1st Owner\\nDiesel  New Delhi  \n",
       "1  11,659 km\\n1st Owner\\nPetrol  New Delhi  \n",
       "2  41,678 km\\n2nd Owner\\nDiesel  New Delhi  \n",
       "3  62,366 km\\n1st Owner\\nDiesel  New Delhi  \n",
       "4  70,555 km\\n2nd Owner\\nDiesel  New Delhi  "
      ]
     },
     "execution_count": 32,
     "metadata": {},
     "output_type": "execute_result"
    }
   ],
   "source": [
    "## checking ist 5 rows\n",
    "df.head()"
   ]
  },
  {
   "cell_type": "markdown",
   "metadata": {},
   "source": [
    "### Extracting other details using 'Regualar Expressions'"
   ]
  },
  {
   "cell_type": "code",
   "execution_count": 33,
   "metadata": {},
   "outputs": [
    {
     "name": "stdout",
     "output_type": "stream",
     "text": [
      "Index(['Car Name', 'Price', 'EMI', 'Features', 'Location'], dtype='object')\n"
     ]
    }
   ],
   "source": [
    "# removing leading and trailing spaces\n",
    "cols = df.select_dtypes(['object']).columns\n",
    "print(cols)\n",
    "df[cols] = df[cols].apply(lambda x: x.str.strip())"
   ]
  },
  {
   "cell_type": "code",
   "execution_count": 34,
   "metadata": {},
   "outputs": [
    {
     "data": {
      "text/html": [
       "<div>\n",
       "<style scoped>\n",
       "    .dataframe tbody tr th:only-of-type {\n",
       "        vertical-align: middle;\n",
       "    }\n",
       "\n",
       "    .dataframe tbody tr th {\n",
       "        vertical-align: top;\n",
       "    }\n",
       "\n",
       "    .dataframe thead th {\n",
       "        text-align: right;\n",
       "    }\n",
       "</style>\n",
       "<table border=\"1\" class=\"dataframe\">\n",
       "  <thead>\n",
       "    <tr style=\"text-align: right;\">\n",
       "      <th></th>\n",
       "      <th>Car Name</th>\n",
       "      <th>Price</th>\n",
       "      <th>EMI</th>\n",
       "      <th>Features</th>\n",
       "      <th>Location</th>\n",
       "      <th>Car Brand</th>\n",
       "      <th>Model</th>\n",
       "      <th>Model Year</th>\n",
       "      <th>Gear</th>\n",
       "      <th>Driven (Kms)</th>\n",
       "      <th>Ownership</th>\n",
       "      <th>Fuel</th>\n",
       "      <th>EMI (monthly)</th>\n",
       "    </tr>\n",
       "  </thead>\n",
       "  <tbody>\n",
       "    <tr>\n",
       "      <th>0</th>\n",
       "      <td>2015 Maruti SwiftVDI ABS Manual</td>\n",
       "      <td>4,05,199</td>\n",
       "      <td>â‚¹9,013/month</td>\n",
       "      <td>37,925 km\\n1st Owner\\nDiesel</td>\n",
       "      <td>New Delhi</td>\n",
       "      <td>Maruti</td>\n",
       "      <td>[SwiftVDI ABS]</td>\n",
       "      <td>2015</td>\n",
       "      <td>[Manual]</td>\n",
       "      <td>37,925</td>\n",
       "      <td>1</td>\n",
       "      <td>Diesel</td>\n",
       "      <td>9,013</td>\n",
       "    </tr>\n",
       "    <tr>\n",
       "      <th>1</th>\n",
       "      <td>2019 Maruti XL6ALPHA SHVS  MT Manual</td>\n",
       "      <td>9,78,999</td>\n",
       "      <td>â‚¹21,777/month</td>\n",
       "      <td>11,659 km\\n1st Owner\\nPetrol</td>\n",
       "      <td>New Delhi</td>\n",
       "      <td>Maruti</td>\n",
       "      <td>[XL6ALPHA SHVS  MT]</td>\n",
       "      <td>2019</td>\n",
       "      <td>[Manual]</td>\n",
       "      <td>11,659</td>\n",
       "      <td>1</td>\n",
       "      <td>Petrol</td>\n",
       "      <td>21,777</td>\n",
       "    </tr>\n",
       "    <tr>\n",
       "      <th>2</th>\n",
       "      <td>2017 Ford New Figo1.5 TITANIUM Manual</td>\n",
       "      <td>4,82,699</td>\n",
       "      <td>â‚¹10,737/month</td>\n",
       "      <td>41,678 km\\n2nd Owner\\nDiesel</td>\n",
       "      <td>New Delhi</td>\n",
       "      <td>Ford</td>\n",
       "      <td>[New Figo1.5 TITANIUM]</td>\n",
       "      <td>2017</td>\n",
       "      <td>[Manual]</td>\n",
       "      <td>41,678</td>\n",
       "      <td>2</td>\n",
       "      <td>Diesel</td>\n",
       "      <td>10,737</td>\n",
       "    </tr>\n",
       "    <tr>\n",
       "      <th>3</th>\n",
       "      <td>2014 Maruti CiazVDI PLUS Manual</td>\n",
       "      <td>5,25,199</td>\n",
       "      <td>â‚¹11,683/month</td>\n",
       "      <td>62,366 km\\n1st Owner\\nDiesel</td>\n",
       "      <td>New Delhi</td>\n",
       "      <td>Maruti</td>\n",
       "      <td>[CiazVDI PLUS]</td>\n",
       "      <td>2014</td>\n",
       "      <td>[Manual]</td>\n",
       "      <td>62,366</td>\n",
       "      <td>1</td>\n",
       "      <td>Diesel</td>\n",
       "      <td>11,683</td>\n",
       "    </tr>\n",
       "    <tr>\n",
       "      <th>4</th>\n",
       "      <td>2016 Maruti Vitara BrezzaZDI Manual</td>\n",
       "      <td>6,35,399</td>\n",
       "      <td>â‚¹14,134/month</td>\n",
       "      <td>70,555 km\\n2nd Owner\\nDiesel</td>\n",
       "      <td>New Delhi</td>\n",
       "      <td>Maruti</td>\n",
       "      <td>[Vitara BrezzaZDI]</td>\n",
       "      <td>2016</td>\n",
       "      <td>[Manual]</td>\n",
       "      <td>70,555</td>\n",
       "      <td>2</td>\n",
       "      <td>Diesel</td>\n",
       "      <td>14,134</td>\n",
       "    </tr>\n",
       "  </tbody>\n",
       "</table>\n",
       "</div>"
      ],
      "text/plain": [
       "                                Car Name     Price              EMI  \\\n",
       "0        2015 Maruti SwiftVDI ABS Manual  4,05,199   â‚¹9,013/month   \n",
       "1   2019 Maruti XL6ALPHA SHVS  MT Manual  9,78,999  â‚¹21,777/month   \n",
       "2  2017 Ford New Figo1.5 TITANIUM Manual  4,82,699  â‚¹10,737/month   \n",
       "3        2014 Maruti CiazVDI PLUS Manual  5,25,199  â‚¹11,683/month   \n",
       "4    2016 Maruti Vitara BrezzaZDI Manual  6,35,399  â‚¹14,134/month   \n",
       "\n",
       "                       Features   Location Car Brand                   Model  \\\n",
       "0  37,925 km\\n1st Owner\\nDiesel  New Delhi    Maruti          [SwiftVDI ABS]   \n",
       "1  11,659 km\\n1st Owner\\nPetrol  New Delhi    Maruti     [XL6ALPHA SHVS  MT]   \n",
       "2  41,678 km\\n2nd Owner\\nDiesel  New Delhi      Ford  [New Figo1.5 TITANIUM]   \n",
       "3  62,366 km\\n1st Owner\\nDiesel  New Delhi    Maruti          [CiazVDI PLUS]   \n",
       "4  70,555 km\\n2nd Owner\\nDiesel  New Delhi    Maruti      [Vitara BrezzaZDI]   \n",
       "\n",
       "  Model Year      Gear Driven (Kms) Ownership    Fuel EMI (monthly)  \n",
       "0       2015  [Manual]       37,925         1  Diesel         9,013  \n",
       "1       2019  [Manual]       11,659         1  Petrol        21,777  \n",
       "2       2017  [Manual]       41,678         2  Diesel        10,737  \n",
       "3       2014  [Manual]       62,366         1  Diesel        11,683  \n",
       "4       2016  [Manual]       70,555         2  Diesel        14,134  "
      ]
     },
     "execution_count": 34,
     "metadata": {},
     "output_type": "execute_result"
    }
   ],
   "source": [
    "regex = r'^\\d+\\s(\\w+)\\s'\n",
    "df['Car Brand'] = df['Car Name'].apply(lambda x: re.compile(regex).findall(x)[0])\n",
    "\n",
    "regex = r'^\\d+\\s\\w+\\s(.*?)\\s\\w+$'\n",
    "df['Model'] = df['Car Name'].apply(lambda x: re.compile(regex).findall(x))\n",
    "\n",
    "regex = r'â‚¹(.*)'\n",
    "df['Price'] = df['Price'].apply(lambda x: re.compile(regex).findall(x)[0])\n",
    "\n",
    "regex = r'^\\d+'\n",
    "df['Model Year'] = df['Car Name'].apply(lambda x: re.compile(regex).findall(x)[0])\n",
    "\n",
    "regex = r'\\w+$'\n",
    "df['Gear'] = df['Car Name'].apply(lambda x: re.compile(regex).findall(x))\n",
    "\n",
    "regex = r'^(.*)\\skm'\n",
    "df['Driven (Kms)'] = df['Features'].apply(lambda x: re.compile(regex).findall(x)[0])\n",
    "\n",
    "regex = r'\\n(\\d+)\\w+\\sOwner\\n'\n",
    "df['Ownership'] = df['Features'].apply(lambda x: re.compile(regex).findall(x)[0])\n",
    "\n",
    "regex = r'\\n(.*)$'\n",
    "df['Fuel'] = df['Features'].apply(lambda x: re.compile(regex).findall(x)[0])\n",
    "\n",
    "regex = r'â‚¹(.*)/month'\n",
    "df['EMI (monthly)'] = df['EMI'].apply(lambda x: re.compile(regex).findall(x)[0])\n",
    "\n",
    "df.head()"
   ]
  },
  {
   "cell_type": "markdown",
   "metadata": {},
   "source": [
    "### Removing unwanted columns and rearranging the required columns"
   ]
  },
  {
   "cell_type": "code",
   "execution_count": 35,
   "metadata": {},
   "outputs": [],
   "source": [
    "cols = ['Car Name', 'Features', 'EMI']\n",
    "columns = ['Car Brand', 'Model', 'Price', 'Model Year','Location' ,'Fuel', 'Driven (Kms)', 'Gear', 'Ownership', 'EMI (monthly)']\n",
    "df = df.drop(cols, axis=1)\n",
    "df = df[columns]"
   ]
  },
  {
   "cell_type": "markdown",
   "metadata": {},
   "source": [
    "### Storing uncleaned Data Frame to a 'csv' file"
   ]
  },
  {
   "cell_type": "code",
   "execution_count": 36,
   "metadata": {},
   "outputs": [],
   "source": [
    "df.to_csv(\"cars24_un_cleaned.csv\")"
   ]
  },
  {
   "cell_type": "markdown",
   "metadata": {},
   "source": [
    "### Cleaning the format of different columns"
   ]
  },
  {
   "cell_type": "code",
   "execution_count": 37,
   "metadata": {},
   "outputs": [],
   "source": [
    "df['Model'] = df['Model'].apply(lambda x: ''.join(x))\n",
    "df['Gear'] = df['Gear'].apply(lambda x: ''.join(x))\n",
    "df['Price'] = df['Price'].apply(lambda x: x.replace(',',''))\n",
    "df['EMI (monthly)'] = df['EMI (monthly)'].apply(lambda x: x.replace(',', ''))\n",
    "df['Driven (Kms)'] = df['Driven (Kms)'].apply(lambda x: x.replace(',',''))"
   ]
  },
  {
   "cell_type": "markdown",
   "metadata": {},
   "source": [
    "### DataFrame after extracting data & cleaning the format"
   ]
  },
  {
   "cell_type": "code",
   "execution_count": 38,
   "metadata": {},
   "outputs": [
    {
     "data": {
      "text/html": [
       "<div>\n",
       "<style scoped>\n",
       "    .dataframe tbody tr th:only-of-type {\n",
       "        vertical-align: middle;\n",
       "    }\n",
       "\n",
       "    .dataframe tbody tr th {\n",
       "        vertical-align: top;\n",
       "    }\n",
       "\n",
       "    .dataframe thead th {\n",
       "        text-align: right;\n",
       "    }\n",
       "</style>\n",
       "<table border=\"1\" class=\"dataframe\">\n",
       "  <thead>\n",
       "    <tr style=\"text-align: right;\">\n",
       "      <th></th>\n",
       "      <th>Car Brand</th>\n",
       "      <th>Model</th>\n",
       "      <th>Price</th>\n",
       "      <th>Model Year</th>\n",
       "      <th>Location</th>\n",
       "      <th>Fuel</th>\n",
       "      <th>Driven (Kms)</th>\n",
       "      <th>Gear</th>\n",
       "      <th>Ownership</th>\n",
       "      <th>EMI (monthly)</th>\n",
       "    </tr>\n",
       "  </thead>\n",
       "  <tbody>\n",
       "    <tr>\n",
       "      <th>0</th>\n",
       "      <td>Maruti</td>\n",
       "      <td>SwiftVDI ABS</td>\n",
       "      <td>405199</td>\n",
       "      <td>2015</td>\n",
       "      <td>New Delhi</td>\n",
       "      <td>Diesel</td>\n",
       "      <td>37925</td>\n",
       "      <td>Manual</td>\n",
       "      <td>1</td>\n",
       "      <td>9013</td>\n",
       "    </tr>\n",
       "    <tr>\n",
       "      <th>1</th>\n",
       "      <td>Maruti</td>\n",
       "      <td>XL6ALPHA SHVS  MT</td>\n",
       "      <td>978999</td>\n",
       "      <td>2019</td>\n",
       "      <td>New Delhi</td>\n",
       "      <td>Petrol</td>\n",
       "      <td>11659</td>\n",
       "      <td>Manual</td>\n",
       "      <td>1</td>\n",
       "      <td>21777</td>\n",
       "    </tr>\n",
       "    <tr>\n",
       "      <th>2</th>\n",
       "      <td>Ford</td>\n",
       "      <td>New Figo1.5 TITANIUM</td>\n",
       "      <td>482699</td>\n",
       "      <td>2017</td>\n",
       "      <td>New Delhi</td>\n",
       "      <td>Diesel</td>\n",
       "      <td>41678</td>\n",
       "      <td>Manual</td>\n",
       "      <td>2</td>\n",
       "      <td>10737</td>\n",
       "    </tr>\n",
       "    <tr>\n",
       "      <th>3</th>\n",
       "      <td>Maruti</td>\n",
       "      <td>CiazVDI PLUS</td>\n",
       "      <td>525199</td>\n",
       "      <td>2014</td>\n",
       "      <td>New Delhi</td>\n",
       "      <td>Diesel</td>\n",
       "      <td>62366</td>\n",
       "      <td>Manual</td>\n",
       "      <td>1</td>\n",
       "      <td>11683</td>\n",
       "    </tr>\n",
       "    <tr>\n",
       "      <th>4</th>\n",
       "      <td>Maruti</td>\n",
       "      <td>Vitara BrezzaZDI</td>\n",
       "      <td>635399</td>\n",
       "      <td>2016</td>\n",
       "      <td>New Delhi</td>\n",
       "      <td>Diesel</td>\n",
       "      <td>70555</td>\n",
       "      <td>Manual</td>\n",
       "      <td>2</td>\n",
       "      <td>14134</td>\n",
       "    </tr>\n",
       "    <tr>\n",
       "      <th>5</th>\n",
       "      <td>Toyota</td>\n",
       "      <td>Innova2.5 GX 7 STR BS IV</td>\n",
       "      <td>708499</td>\n",
       "      <td>2014</td>\n",
       "      <td>New Delhi</td>\n",
       "      <td>Diesel</td>\n",
       "      <td>86859</td>\n",
       "      <td>Manual</td>\n",
       "      <td>1</td>\n",
       "      <td>15760</td>\n",
       "    </tr>\n",
       "    <tr>\n",
       "      <th>6</th>\n",
       "      <td>Hyundai</td>\n",
       "      <td>Creta1.6 SX PLUS DIESEL</td>\n",
       "      <td>856199</td>\n",
       "      <td>2016</td>\n",
       "      <td>New Delhi</td>\n",
       "      <td>Diesel</td>\n",
       "      <td>95195</td>\n",
       "      <td>Manual</td>\n",
       "      <td>1</td>\n",
       "      <td>19046</td>\n",
       "    </tr>\n",
       "    <tr>\n",
       "      <th>7</th>\n",
       "      <td>Ford</td>\n",
       "      <td>Ecosport1.5TITANIUM TDCI</td>\n",
       "      <td>534299</td>\n",
       "      <td>2014</td>\n",
       "      <td>New Delhi</td>\n",
       "      <td>Diesel</td>\n",
       "      <td>62254</td>\n",
       "      <td>Manual</td>\n",
       "      <td>1</td>\n",
       "      <td>11885</td>\n",
       "    </tr>\n",
       "    <tr>\n",
       "      <th>8</th>\n",
       "      <td>Maruti</td>\n",
       "      <td>BalenoZETA 1.2 K12</td>\n",
       "      <td>609999</td>\n",
       "      <td>2018</td>\n",
       "      <td>New Delhi</td>\n",
       "      <td>Petrol</td>\n",
       "      <td>37284</td>\n",
       "      <td>Manual</td>\n",
       "      <td>1</td>\n",
       "      <td>13569</td>\n",
       "    </tr>\n",
       "    <tr>\n",
       "      <th>9</th>\n",
       "      <td>Ford</td>\n",
       "      <td>Ecosport1.5TITANIUM TDCI</td>\n",
       "      <td>867799</td>\n",
       "      <td>2018</td>\n",
       "      <td>New Delhi</td>\n",
       "      <td>Diesel</td>\n",
       "      <td>21169</td>\n",
       "      <td>Manual</td>\n",
       "      <td>1</td>\n",
       "      <td>19304</td>\n",
       "    </tr>\n",
       "    <tr>\n",
       "      <th>10</th>\n",
       "      <td>Tata</td>\n",
       "      <td>TiagoXT 1.2 REVOTRON</td>\n",
       "      <td>459599</td>\n",
       "      <td>2017</td>\n",
       "      <td>New Delhi</td>\n",
       "      <td>Petrol</td>\n",
       "      <td>80573</td>\n",
       "      <td>Manual</td>\n",
       "      <td>1</td>\n",
       "      <td>10224</td>\n",
       "    </tr>\n",
       "    <tr>\n",
       "      <th>11</th>\n",
       "      <td>Maruti</td>\n",
       "      <td>Alto 800VXI</td>\n",
       "      <td>378699</td>\n",
       "      <td>2019</td>\n",
       "      <td>New Delhi</td>\n",
       "      <td>Petrol</td>\n",
       "      <td>10316</td>\n",
       "      <td>Manual</td>\n",
       "      <td>1</td>\n",
       "      <td>8424</td>\n",
       "    </tr>\n",
       "    <tr>\n",
       "      <th>12</th>\n",
       "      <td>Maruti</td>\n",
       "      <td>Vitara BrezzaVDI OPT</td>\n",
       "      <td>827899</td>\n",
       "      <td>2017</td>\n",
       "      <td>New Delhi</td>\n",
       "      <td>Diesel</td>\n",
       "      <td>34749</td>\n",
       "      <td>Manual</td>\n",
       "      <td>1</td>\n",
       "      <td>18416</td>\n",
       "    </tr>\n",
       "    <tr>\n",
       "      <th>13</th>\n",
       "      <td>Maruti</td>\n",
       "      <td>Vitara BrezzaVDI OPT</td>\n",
       "      <td>700299</td>\n",
       "      <td>2017</td>\n",
       "      <td>New Delhi</td>\n",
       "      <td>Diesel</td>\n",
       "      <td>83741</td>\n",
       "      <td>Manual</td>\n",
       "      <td>1</td>\n",
       "      <td>15578</td>\n",
       "    </tr>\n",
       "    <tr>\n",
       "      <th>14</th>\n",
       "      <td>Maruti</td>\n",
       "      <td>Vitara BrezzaVDI OPT</td>\n",
       "      <td>719399</td>\n",
       "      <td>2018</td>\n",
       "      <td>New Delhi</td>\n",
       "      <td>Diesel</td>\n",
       "      <td>71192</td>\n",
       "      <td>Manual</td>\n",
       "      <td>1</td>\n",
       "      <td>16003</td>\n",
       "    </tr>\n",
       "    <tr>\n",
       "      <th>15</th>\n",
       "      <td>Maruti</td>\n",
       "      <td>SwiftVDI ABS</td>\n",
       "      <td>598999</td>\n",
       "      <td>2015</td>\n",
       "      <td>New Delhi</td>\n",
       "      <td>Diesel</td>\n",
       "      <td>53260</td>\n",
       "      <td>Manual</td>\n",
       "      <td>1</td>\n",
       "      <td>13324</td>\n",
       "    </tr>\n",
       "    <tr>\n",
       "      <th>16</th>\n",
       "      <td>Tata</td>\n",
       "      <td>TiagoXZ 1.2 REVOTRON</td>\n",
       "      <td>480999</td>\n",
       "      <td>2018</td>\n",
       "      <td>New Delhi</td>\n",
       "      <td>Petrol</td>\n",
       "      <td>25562</td>\n",
       "      <td>Manual</td>\n",
       "      <td>1</td>\n",
       "      <td>10700</td>\n",
       "    </tr>\n",
       "    <tr>\n",
       "      <th>17</th>\n",
       "      <td>Maruti</td>\n",
       "      <td>SwiftVDI ABS</td>\n",
       "      <td>455299</td>\n",
       "      <td>2015</td>\n",
       "      <td>New Delhi</td>\n",
       "      <td>Diesel</td>\n",
       "      <td>76264</td>\n",
       "      <td>Manual</td>\n",
       "      <td>1</td>\n",
       "      <td>10128</td>\n",
       "    </tr>\n",
       "    <tr>\n",
       "      <th>18</th>\n",
       "      <td>Maruti</td>\n",
       "      <td>Swift DzireVDI BS IV</td>\n",
       "      <td>455499</td>\n",
       "      <td>2012</td>\n",
       "      <td>New Delhi</td>\n",
       "      <td>Diesel</td>\n",
       "      <td>54918</td>\n",
       "      <td>Manual</td>\n",
       "      <td>1</td>\n",
       "      <td>10132</td>\n",
       "    </tr>\n",
       "    <tr>\n",
       "      <th>19</th>\n",
       "      <td>Maruti</td>\n",
       "      <td>SwiftVDI ABS</td>\n",
       "      <td>404899</td>\n",
       "      <td>2015</td>\n",
       "      <td>New Delhi</td>\n",
       "      <td>Diesel</td>\n",
       "      <td>104005</td>\n",
       "      <td>Manual</td>\n",
       "      <td>1</td>\n",
       "      <td>9007</td>\n",
       "    </tr>\n",
       "  </tbody>\n",
       "</table>\n",
       "</div>"
      ],
      "text/plain": [
       "   Car Brand                     Model   Price Model Year   Location    Fuel  \\\n",
       "0     Maruti              SwiftVDI ABS  405199       2015  New Delhi  Diesel   \n",
       "1     Maruti         XL6ALPHA SHVS  MT  978999       2019  New Delhi  Petrol   \n",
       "2       Ford      New Figo1.5 TITANIUM  482699       2017  New Delhi  Diesel   \n",
       "3     Maruti              CiazVDI PLUS  525199       2014  New Delhi  Diesel   \n",
       "4     Maruti          Vitara BrezzaZDI  635399       2016  New Delhi  Diesel   \n",
       "5     Toyota  Innova2.5 GX 7 STR BS IV  708499       2014  New Delhi  Diesel   \n",
       "6    Hyundai   Creta1.6 SX PLUS DIESEL  856199       2016  New Delhi  Diesel   \n",
       "7       Ford  Ecosport1.5TITANIUM TDCI  534299       2014  New Delhi  Diesel   \n",
       "8     Maruti        BalenoZETA 1.2 K12  609999       2018  New Delhi  Petrol   \n",
       "9       Ford  Ecosport1.5TITANIUM TDCI  867799       2018  New Delhi  Diesel   \n",
       "10      Tata      TiagoXT 1.2 REVOTRON  459599       2017  New Delhi  Petrol   \n",
       "11    Maruti               Alto 800VXI  378699       2019  New Delhi  Petrol   \n",
       "12    Maruti      Vitara BrezzaVDI OPT  827899       2017  New Delhi  Diesel   \n",
       "13    Maruti      Vitara BrezzaVDI OPT  700299       2017  New Delhi  Diesel   \n",
       "14    Maruti      Vitara BrezzaVDI OPT  719399       2018  New Delhi  Diesel   \n",
       "15    Maruti              SwiftVDI ABS  598999       2015  New Delhi  Diesel   \n",
       "16      Tata      TiagoXZ 1.2 REVOTRON  480999       2018  New Delhi  Petrol   \n",
       "17    Maruti              SwiftVDI ABS  455299       2015  New Delhi  Diesel   \n",
       "18    Maruti      Swift DzireVDI BS IV  455499       2012  New Delhi  Diesel   \n",
       "19    Maruti              SwiftVDI ABS  404899       2015  New Delhi  Diesel   \n",
       "\n",
       "   Driven (Kms)    Gear Ownership EMI (monthly)  \n",
       "0         37925  Manual         1          9013  \n",
       "1         11659  Manual         1         21777  \n",
       "2         41678  Manual         2         10737  \n",
       "3         62366  Manual         1         11683  \n",
       "4         70555  Manual         2         14134  \n",
       "5         86859  Manual         1         15760  \n",
       "6         95195  Manual         1         19046  \n",
       "7         62254  Manual         1         11885  \n",
       "8         37284  Manual         1         13569  \n",
       "9         21169  Manual         1         19304  \n",
       "10        80573  Manual         1         10224  \n",
       "11        10316  Manual         1          8424  \n",
       "12        34749  Manual         1         18416  \n",
       "13        83741  Manual         1         15578  \n",
       "14        71192  Manual         1         16003  \n",
       "15        53260  Manual         1         13324  \n",
       "16        25562  Manual         1         10700  \n",
       "17        76264  Manual         1         10128  \n",
       "18        54918  Manual         1         10132  \n",
       "19       104005  Manual         1          9007  "
      ]
     },
     "execution_count": 38,
     "metadata": {},
     "output_type": "execute_result"
    }
   ],
   "source": [
    "df.head(20)"
   ]
  },
  {
   "cell_type": "markdown",
   "metadata": {},
   "source": [
    "### Finding number of 'Missing /NAN' values"
   ]
  },
  {
   "cell_type": "code",
   "execution_count": 39,
   "metadata": {},
   "outputs": [
    {
     "data": {
      "text/plain": [
       "Car Brand        0\n",
       "Model            0\n",
       "Price            0\n",
       "Model Year       0\n",
       "Location         0\n",
       "Fuel             0\n",
       "Driven (Kms)     0\n",
       "Gear             0\n",
       "Ownership        0\n",
       "EMI (monthly)    0\n",
       "dtype: int64"
      ]
     },
     "execution_count": 39,
     "metadata": {},
     "output_type": "execute_result"
    }
   ],
   "source": [
    "df.isnull().sum().sort_values(ascending=False)"
   ]
  },
  {
   "cell_type": "markdown",
   "metadata": {},
   "source": [
    "### Removing the rows which have missing values"
   ]
  },
  {
   "cell_type": "code",
   "execution_count": 40,
   "metadata": {},
   "outputs": [],
   "source": [
    "columns = ['Model']\n",
    "df = df.dropna(subset=columns).reset_index(drop=False)"
   ]
  },
  {
   "cell_type": "markdown",
   "metadata": {},
   "source": [
    "### Checking 'NAN' values after removing rows"
   ]
  },
  {
   "cell_type": "code",
   "execution_count": 46,
   "metadata": {},
   "outputs": [
    {
     "data": {
      "text/plain": [
       "Car Brand        0\n",
       "Model            0\n",
       "Price            0\n",
       "Model Year       0\n",
       "Location         0\n",
       "Fuel             0\n",
       "Driven (Kms)     0\n",
       "Gear             0\n",
       "Ownership        0\n",
       "EMI (monthly)    0\n",
       "dtype: int64"
      ]
     },
     "execution_count": 46,
     "metadata": {},
     "output_type": "execute_result"
    }
   ],
   "source": [
    "df.isnull().sum()"
   ]
  },
  {
   "cell_type": "markdown",
   "metadata": {},
   "source": [
    "#### since there are no missing values we can start analyzing the data"
   ]
  },
  {
   "cell_type": "markdown",
   "metadata": {},
   "source": [
    "### Storing the Data Frame to a 'csv' file"
   ]
  },
  {
   "cell_type": "code",
   "execution_count": null,
   "metadata": {},
   "outputs": [],
   "source": [
    "df.to_csv(\"cars24.csv\")\n",
    "df.head()"
   ]
  },
  {
   "cell_type": "markdown",
   "metadata": {},
   "source": [
    "### Loading the csv to data frame"
   ]
  },
  {
   "cell_type": "code",
   "execution_count": 2,
   "metadata": {},
   "outputs": [
    {
     "data": {
      "text/html": [
       "<div>\n",
       "<style scoped>\n",
       "    .dataframe tbody tr th:only-of-type {\n",
       "        vertical-align: middle;\n",
       "    }\n",
       "\n",
       "    .dataframe tbody tr th {\n",
       "        vertical-align: top;\n",
       "    }\n",
       "\n",
       "    .dataframe thead th {\n",
       "        text-align: right;\n",
       "    }\n",
       "</style>\n",
       "<table border=\"1\" class=\"dataframe\">\n",
       "  <thead>\n",
       "    <tr style=\"text-align: right;\">\n",
       "      <th></th>\n",
       "      <th>Unnamed: 0</th>\n",
       "      <th>Car Brand</th>\n",
       "      <th>Model</th>\n",
       "      <th>Price</th>\n",
       "      <th>Model Year</th>\n",
       "      <th>Location</th>\n",
       "      <th>Fuel</th>\n",
       "      <th>Driven (Kms)</th>\n",
       "      <th>Gear</th>\n",
       "      <th>Ownership</th>\n",
       "      <th>EMI (monthly)</th>\n",
       "    </tr>\n",
       "  </thead>\n",
       "  <tbody>\n",
       "    <tr>\n",
       "      <th>0</th>\n",
       "      <td>0</td>\n",
       "      <td>Maruti</td>\n",
       "      <td>SwiftVDI ABS</td>\n",
       "      <td>405199</td>\n",
       "      <td>2015</td>\n",
       "      <td>New Delhi</td>\n",
       "      <td>Diesel</td>\n",
       "      <td>37925</td>\n",
       "      <td>Manual</td>\n",
       "      <td>1</td>\n",
       "      <td>9013</td>\n",
       "    </tr>\n",
       "    <tr>\n",
       "      <th>1</th>\n",
       "      <td>1</td>\n",
       "      <td>Maruti</td>\n",
       "      <td>XL6ALPHA SHVS  MT</td>\n",
       "      <td>978999</td>\n",
       "      <td>2019</td>\n",
       "      <td>New Delhi</td>\n",
       "      <td>Petrol</td>\n",
       "      <td>11659</td>\n",
       "      <td>Manual</td>\n",
       "      <td>1</td>\n",
       "      <td>21777</td>\n",
       "    </tr>\n",
       "    <tr>\n",
       "      <th>2</th>\n",
       "      <td>2</td>\n",
       "      <td>Ford</td>\n",
       "      <td>New Figo1.5 TITANIUM</td>\n",
       "      <td>482699</td>\n",
       "      <td>2017</td>\n",
       "      <td>New Delhi</td>\n",
       "      <td>Diesel</td>\n",
       "      <td>41678</td>\n",
       "      <td>Manual</td>\n",
       "      <td>2</td>\n",
       "      <td>10737</td>\n",
       "    </tr>\n",
       "    <tr>\n",
       "      <th>3</th>\n",
       "      <td>3</td>\n",
       "      <td>Maruti</td>\n",
       "      <td>CiazVDI PLUS</td>\n",
       "      <td>525199</td>\n",
       "      <td>2014</td>\n",
       "      <td>New Delhi</td>\n",
       "      <td>Diesel</td>\n",
       "      <td>62366</td>\n",
       "      <td>Manual</td>\n",
       "      <td>1</td>\n",
       "      <td>11683</td>\n",
       "    </tr>\n",
       "    <tr>\n",
       "      <th>4</th>\n",
       "      <td>4</td>\n",
       "      <td>Maruti</td>\n",
       "      <td>Vitara BrezzaZDI</td>\n",
       "      <td>635399</td>\n",
       "      <td>2016</td>\n",
       "      <td>New Delhi</td>\n",
       "      <td>Diesel</td>\n",
       "      <td>70555</td>\n",
       "      <td>Manual</td>\n",
       "      <td>2</td>\n",
       "      <td>14134</td>\n",
       "    </tr>\n",
       "  </tbody>\n",
       "</table>\n",
       "</div>"
      ],
      "text/plain": [
       "   Unnamed: 0 Car Brand                 Model   Price  Model Year   Location  \\\n",
       "0           0    Maruti          SwiftVDI ABS  405199        2015  New Delhi   \n",
       "1           1    Maruti     XL6ALPHA SHVS  MT  978999        2019  New Delhi   \n",
       "2           2      Ford  New Figo1.5 TITANIUM  482699        2017  New Delhi   \n",
       "3           3    Maruti          CiazVDI PLUS  525199        2014  New Delhi   \n",
       "4           4    Maruti      Vitara BrezzaZDI  635399        2016  New Delhi   \n",
       "\n",
       "     Fuel  Driven (Kms)    Gear  Ownership  EMI (monthly)  \n",
       "0  Diesel         37925  Manual          1           9013  \n",
       "1  Petrol         11659  Manual          1          21777  \n",
       "2  Diesel         41678  Manual          2          10737  \n",
       "3  Diesel         62366  Manual          1          11683  \n",
       "4  Diesel         70555  Manual          2          14134  "
      ]
     },
     "execution_count": 2,
     "metadata": {},
     "output_type": "execute_result"
    }
   ],
   "source": [
    "df = pd.read_csv('cars24.csv')\n",
    "df.head()"
   ]
  },
  {
   "cell_type": "code",
   "execution_count": 15,
   "metadata": {},
   "outputs": [],
   "source": [
    "## dropping the Unnamed column\n",
    "df.drop('Unnamed: 0',axis=1,inplace=True)"
   ]
  },
  {
   "cell_type": "markdown",
   "metadata": {},
   "source": [
    "## Explanatory Data Analysis"
   ]
  },
  {
   "cell_type": "markdown",
   "metadata": {},
   "source": [
    "### Names of the columns"
   ]
  },
  {
   "cell_type": "code",
   "execution_count": 4,
   "metadata": {},
   "outputs": [
    {
     "data": {
      "text/plain": [
       "Index(['Car Brand', 'Model', 'Price', 'Model Year', 'Location', 'Fuel',\n",
       "       'Driven (Kms)', 'Gear', 'Ownership', 'EMI (monthly)'],\n",
       "      dtype='object')"
      ]
     },
     "execution_count": 4,
     "metadata": {},
     "output_type": "execute_result"
    }
   ],
   "source": [
    "df.columns"
   ]
  },
  {
   "cell_type": "markdown",
   "metadata": {},
   "source": [
    "### Information of all columns"
   ]
  },
  {
   "cell_type": "code",
   "execution_count": 16,
   "metadata": {},
   "outputs": [
    {
     "name": "stdout",
     "output_type": "stream",
     "text": [
      "<class 'pandas.core.frame.DataFrame'>\n",
      "RangeIndex: 100781 entries, 0 to 100780\n",
      "Data columns (total 12 columns):\n",
      " #   Column         Non-Null Count   Dtype \n",
      "---  ------         --------------   ----- \n",
      " 0   index          100781 non-null  int64 \n",
      " 1   Car Brand      100781 non-null  object\n",
      " 2   Model          100781 non-null  object\n",
      " 3   Price          100781 non-null  int64 \n",
      " 4   Model Year     100781 non-null  int16 \n",
      " 5   Location       100781 non-null  object\n",
      " 6   Fuel           100781 non-null  object\n",
      " 7   Driven (Kms)   100781 non-null  int64 \n",
      " 8   Gear           100781 non-null  object\n",
      " 9   Ownership      100781 non-null  int64 \n",
      " 10  EMI (monthly)  100781 non-null  int64 \n",
      " 11  Car Age        100781 non-null  int64 \n",
      "dtypes: int16(1), int64(6), object(5)\n",
      "memory usage: 8.7+ MB\n"
     ]
    }
   ],
   "source": [
    "df.info()"
   ]
  },
  {
   "cell_type": "code",
   "execution_count": 17,
   "metadata": {},
   "outputs": [
    {
     "data": {
      "text/html": [
       "<div>\n",
       "<style scoped>\n",
       "    .dataframe tbody tr th:only-of-type {\n",
       "        vertical-align: middle;\n",
       "    }\n",
       "\n",
       "    .dataframe tbody tr th {\n",
       "        vertical-align: top;\n",
       "    }\n",
       "\n",
       "    .dataframe thead th {\n",
       "        text-align: right;\n",
       "    }\n",
       "</style>\n",
       "<table border=\"1\" class=\"dataframe\">\n",
       "  <thead>\n",
       "    <tr style=\"text-align: right;\">\n",
       "      <th></th>\n",
       "      <th>index</th>\n",
       "      <th>Car Brand</th>\n",
       "      <th>Model</th>\n",
       "      <th>Price</th>\n",
       "      <th>Model Year</th>\n",
       "      <th>Location</th>\n",
       "      <th>Fuel</th>\n",
       "      <th>Driven (Kms)</th>\n",
       "      <th>Gear</th>\n",
       "      <th>Ownership</th>\n",
       "      <th>EMI (monthly)</th>\n",
       "      <th>Car Age</th>\n",
       "    </tr>\n",
       "  </thead>\n",
       "  <tbody>\n",
       "    <tr>\n",
       "      <th>0</th>\n",
       "      <td>0</td>\n",
       "      <td>Maruti</td>\n",
       "      <td>SwiftVDI ABS</td>\n",
       "      <td>405199</td>\n",
       "      <td>2015</td>\n",
       "      <td>New Delhi</td>\n",
       "      <td>Diesel</td>\n",
       "      <td>37925</td>\n",
       "      <td>Manual</td>\n",
       "      <td>1</td>\n",
       "      <td>9013</td>\n",
       "      <td>6</td>\n",
       "    </tr>\n",
       "    <tr>\n",
       "      <th>1</th>\n",
       "      <td>1</td>\n",
       "      <td>Maruti</td>\n",
       "      <td>XL6ALPHA SHVS  MT</td>\n",
       "      <td>978999</td>\n",
       "      <td>2019</td>\n",
       "      <td>New Delhi</td>\n",
       "      <td>Petrol</td>\n",
       "      <td>11659</td>\n",
       "      <td>Manual</td>\n",
       "      <td>1</td>\n",
       "      <td>21777</td>\n",
       "      <td>2</td>\n",
       "    </tr>\n",
       "    <tr>\n",
       "      <th>2</th>\n",
       "      <td>2</td>\n",
       "      <td>Ford</td>\n",
       "      <td>New Figo1.5 TITANIUM</td>\n",
       "      <td>482699</td>\n",
       "      <td>2017</td>\n",
       "      <td>New Delhi</td>\n",
       "      <td>Diesel</td>\n",
       "      <td>41678</td>\n",
       "      <td>Manual</td>\n",
       "      <td>2</td>\n",
       "      <td>10737</td>\n",
       "      <td>4</td>\n",
       "    </tr>\n",
       "    <tr>\n",
       "      <th>3</th>\n",
       "      <td>3</td>\n",
       "      <td>Maruti</td>\n",
       "      <td>CiazVDI PLUS</td>\n",
       "      <td>525199</td>\n",
       "      <td>2014</td>\n",
       "      <td>New Delhi</td>\n",
       "      <td>Diesel</td>\n",
       "      <td>62366</td>\n",
       "      <td>Manual</td>\n",
       "      <td>1</td>\n",
       "      <td>11683</td>\n",
       "      <td>7</td>\n",
       "    </tr>\n",
       "    <tr>\n",
       "      <th>4</th>\n",
       "      <td>4</td>\n",
       "      <td>Maruti</td>\n",
       "      <td>Vitara BrezzaZDI</td>\n",
       "      <td>635399</td>\n",
       "      <td>2016</td>\n",
       "      <td>New Delhi</td>\n",
       "      <td>Diesel</td>\n",
       "      <td>70555</td>\n",
       "      <td>Manual</td>\n",
       "      <td>2</td>\n",
       "      <td>14134</td>\n",
       "      <td>5</td>\n",
       "    </tr>\n",
       "  </tbody>\n",
       "</table>\n",
       "</div>"
      ],
      "text/plain": [
       "   index Car Brand                 Model   Price  Model Year   Location  \\\n",
       "0      0    Maruti          SwiftVDI ABS  405199        2015  New Delhi   \n",
       "1      1    Maruti     XL6ALPHA SHVS  MT  978999        2019  New Delhi   \n",
       "2      2      Ford  New Figo1.5 TITANIUM  482699        2017  New Delhi   \n",
       "3      3    Maruti          CiazVDI PLUS  525199        2014  New Delhi   \n",
       "4      4    Maruti      Vitara BrezzaZDI  635399        2016  New Delhi   \n",
       "\n",
       "     Fuel  Driven (Kms)    Gear  Ownership  EMI (monthly)  Car Age  \n",
       "0  Diesel         37925  Manual          1           9013        6  \n",
       "1  Petrol         11659  Manual          1          21777        2  \n",
       "2  Diesel         41678  Manual          2          10737        4  \n",
       "3  Diesel         62366  Manual          1          11683        7  \n",
       "4  Diesel         70555  Manual          2          14134        5  "
      ]
     },
     "execution_count": 17,
     "metadata": {},
     "output_type": "execute_result"
    }
   ],
   "source": [
    "### Number of the Year car has been used = current year - previous year\n",
    "\n",
    "# converitng Model Year from object to Int64\n",
    "\n",
    "df[\"Model Year\"] = pd.to_numeric(df[\"Model Year\"], downcast=\"integer\")\n",
    "df[\"Current Year\"] = 2021\n",
    "\n",
    "\n",
    "df[\"Car Age\"] = df[\"Current Year\"] - df[\"Model Year\"]\n",
    "df = df.drop([\"Current Year\"], axis=1)\n",
    "df.head()"
   ]
  },
  {
   "cell_type": "markdown",
   "metadata": {},
   "source": [
    "### Gathering all \"Statistical Details\" of different columns"
   ]
  },
  {
   "cell_type": "code",
   "execution_count": 18,
   "metadata": {
    "scrolled": true
   },
   "outputs": [
    {
     "data": {
      "text/html": [
       "<div>\n",
       "<style scoped>\n",
       "    .dataframe tbody tr th:only-of-type {\n",
       "        vertical-align: middle;\n",
       "    }\n",
       "\n",
       "    .dataframe tbody tr th {\n",
       "        vertical-align: top;\n",
       "    }\n",
       "\n",
       "    .dataframe thead th {\n",
       "        text-align: right;\n",
       "    }\n",
       "</style>\n",
       "<table border=\"1\" class=\"dataframe\">\n",
       "  <thead>\n",
       "    <tr style=\"text-align: right;\">\n",
       "      <th></th>\n",
       "      <th>count</th>\n",
       "      <th>unique</th>\n",
       "      <th>top</th>\n",
       "      <th>freq</th>\n",
       "      <th>mean</th>\n",
       "      <th>std</th>\n",
       "      <th>min</th>\n",
       "      <th>25%</th>\n",
       "      <th>50%</th>\n",
       "      <th>75%</th>\n",
       "      <th>max</th>\n",
       "    </tr>\n",
       "  </thead>\n",
       "  <tbody>\n",
       "    <tr>\n",
       "      <th>index</th>\n",
       "      <td>100781.0</td>\n",
       "      <td>NaN</td>\n",
       "      <td>NaN</td>\n",
       "      <td>NaN</td>\n",
       "      <td>50561.71708</td>\n",
       "      <td>29287.796896</td>\n",
       "      <td>0.0</td>\n",
       "      <td>25195.0</td>\n",
       "      <td>50390.0</td>\n",
       "      <td>76084.0</td>\n",
       "      <td>101279.0</td>\n",
       "    </tr>\n",
       "    <tr>\n",
       "      <th>Car Brand</th>\n",
       "      <td>100781</td>\n",
       "      <td>13</td>\n",
       "      <td>Maruti</td>\n",
       "      <td>38886</td>\n",
       "      <td>NaN</td>\n",
       "      <td>NaN</td>\n",
       "      <td>NaN</td>\n",
       "      <td>NaN</td>\n",
       "      <td>NaN</td>\n",
       "      <td>NaN</td>\n",
       "      <td>NaN</td>\n",
       "    </tr>\n",
       "    <tr>\n",
       "      <th>Model</th>\n",
       "      <td>100781</td>\n",
       "      <td>124</td>\n",
       "      <td>SwiftVDI ABS</td>\n",
       "      <td>5785</td>\n",
       "      <td>NaN</td>\n",
       "      <td>NaN</td>\n",
       "      <td>NaN</td>\n",
       "      <td>NaN</td>\n",
       "      <td>NaN</td>\n",
       "      <td>NaN</td>\n",
       "      <td>NaN</td>\n",
       "    </tr>\n",
       "    <tr>\n",
       "      <th>Price</th>\n",
       "      <td>100781.0</td>\n",
       "      <td>NaN</td>\n",
       "      <td>NaN</td>\n",
       "      <td>NaN</td>\n",
       "      <td>624782.084113</td>\n",
       "      <td>197600.264212</td>\n",
       "      <td>232599.0</td>\n",
       "      <td>487799.0</td>\n",
       "      <td>593099.0</td>\n",
       "      <td>723799.0</td>\n",
       "      <td>1465799.0</td>\n",
       "    </tr>\n",
       "    <tr>\n",
       "      <th>Model Year</th>\n",
       "      <td>100781.0</td>\n",
       "      <td>NaN</td>\n",
       "      <td>NaN</td>\n",
       "      <td>NaN</td>\n",
       "      <td>2016.384189</td>\n",
       "      <td>2.058216</td>\n",
       "      <td>2009.0</td>\n",
       "      <td>2015.0</td>\n",
       "      <td>2016.0</td>\n",
       "      <td>2018.0</td>\n",
       "      <td>2021.0</td>\n",
       "    </tr>\n",
       "    <tr>\n",
       "      <th>Location</th>\n",
       "      <td>100781</td>\n",
       "      <td>11</td>\n",
       "      <td>Noida</td>\n",
       "      <td>9980</td>\n",
       "      <td>NaN</td>\n",
       "      <td>NaN</td>\n",
       "      <td>NaN</td>\n",
       "      <td>NaN</td>\n",
       "      <td>NaN</td>\n",
       "      <td>NaN</td>\n",
       "      <td>NaN</td>\n",
       "    </tr>\n",
       "    <tr>\n",
       "      <th>Fuel</th>\n",
       "      <td>100781</td>\n",
       "      <td>3</td>\n",
       "      <td>Petrol</td>\n",
       "      <td>56757</td>\n",
       "      <td>NaN</td>\n",
       "      <td>NaN</td>\n",
       "      <td>NaN</td>\n",
       "      <td>NaN</td>\n",
       "      <td>NaN</td>\n",
       "      <td>NaN</td>\n",
       "      <td>NaN</td>\n",
       "    </tr>\n",
       "    <tr>\n",
       "      <th>Driven (Kms)</th>\n",
       "      <td>100781.0</td>\n",
       "      <td>NaN</td>\n",
       "      <td>NaN</td>\n",
       "      <td>NaN</td>\n",
       "      <td>50921.678193</td>\n",
       "      <td>32020.046993</td>\n",
       "      <td>230.0</td>\n",
       "      <td>27190.0</td>\n",
       "      <td>44486.0</td>\n",
       "      <td>71002.0</td>\n",
       "      <td>187298.0</td>\n",
       "    </tr>\n",
       "    <tr>\n",
       "      <th>Gear</th>\n",
       "      <td>100781</td>\n",
       "      <td>5</td>\n",
       "      <td>Manual</td>\n",
       "      <td>89803</td>\n",
       "      <td>NaN</td>\n",
       "      <td>NaN</td>\n",
       "      <td>NaN</td>\n",
       "      <td>NaN</td>\n",
       "      <td>NaN</td>\n",
       "      <td>NaN</td>\n",
       "      <td>NaN</td>\n",
       "    </tr>\n",
       "    <tr>\n",
       "      <th>Ownership</th>\n",
       "      <td>100781.0</td>\n",
       "      <td>NaN</td>\n",
       "      <td>NaN</td>\n",
       "      <td>NaN</td>\n",
       "      <td>1.209424</td>\n",
       "      <td>0.4419</td>\n",
       "      <td>1.0</td>\n",
       "      <td>1.0</td>\n",
       "      <td>1.0</td>\n",
       "      <td>1.0</td>\n",
       "      <td>3.0</td>\n",
       "    </tr>\n",
       "    <tr>\n",
       "      <th>EMI (monthly)</th>\n",
       "      <td>100781.0</td>\n",
       "      <td>NaN</td>\n",
       "      <td>NaN</td>\n",
       "      <td>NaN</td>\n",
       "      <td>13897.951122</td>\n",
       "      <td>4395.517385</td>\n",
       "      <td>5174.0</td>\n",
       "      <td>10851.0</td>\n",
       "      <td>13193.0</td>\n",
       "      <td>16101.0</td>\n",
       "      <td>32606.0</td>\n",
       "    </tr>\n",
       "    <tr>\n",
       "      <th>Car Age</th>\n",
       "      <td>100781.0</td>\n",
       "      <td>NaN</td>\n",
       "      <td>NaN</td>\n",
       "      <td>NaN</td>\n",
       "      <td>4.615811</td>\n",
       "      <td>2.058216</td>\n",
       "      <td>0.0</td>\n",
       "      <td>3.0</td>\n",
       "      <td>5.0</td>\n",
       "      <td>6.0</td>\n",
       "      <td>12.0</td>\n",
       "    </tr>\n",
       "  </tbody>\n",
       "</table>\n",
       "</div>"
      ],
      "text/plain": [
       "                  count unique           top   freq           mean  \\\n",
       "index          100781.0    NaN           NaN    NaN    50561.71708   \n",
       "Car Brand        100781     13        Maruti  38886            NaN   \n",
       "Model            100781    124  SwiftVDI ABS   5785            NaN   \n",
       "Price          100781.0    NaN           NaN    NaN  624782.084113   \n",
       "Model Year     100781.0    NaN           NaN    NaN    2016.384189   \n",
       "Location         100781     11         Noida   9980            NaN   \n",
       "Fuel             100781      3        Petrol  56757            NaN   \n",
       "Driven (Kms)   100781.0    NaN           NaN    NaN   50921.678193   \n",
       "Gear             100781      5        Manual  89803            NaN   \n",
       "Ownership      100781.0    NaN           NaN    NaN       1.209424   \n",
       "EMI (monthly)  100781.0    NaN           NaN    NaN   13897.951122   \n",
       "Car Age        100781.0    NaN           NaN    NaN       4.615811   \n",
       "\n",
       "                         std       min       25%       50%       75%  \\\n",
       "index           29287.796896       0.0   25195.0   50390.0   76084.0   \n",
       "Car Brand                NaN       NaN       NaN       NaN       NaN   \n",
       "Model                    NaN       NaN       NaN       NaN       NaN   \n",
       "Price          197600.264212  232599.0  487799.0  593099.0  723799.0   \n",
       "Model Year          2.058216    2009.0    2015.0    2016.0    2018.0   \n",
       "Location                 NaN       NaN       NaN       NaN       NaN   \n",
       "Fuel                     NaN       NaN       NaN       NaN       NaN   \n",
       "Driven (Kms)    32020.046993     230.0   27190.0   44486.0   71002.0   \n",
       "Gear                     NaN       NaN       NaN       NaN       NaN   \n",
       "Ownership             0.4419       1.0       1.0       1.0       1.0   \n",
       "EMI (monthly)    4395.517385    5174.0   10851.0   13193.0   16101.0   \n",
       "Car Age             2.058216       0.0       3.0       5.0       6.0   \n",
       "\n",
       "                     max  \n",
       "index           101279.0  \n",
       "Car Brand            NaN  \n",
       "Model                NaN  \n",
       "Price          1465799.0  \n",
       "Model Year        2021.0  \n",
       "Location             NaN  \n",
       "Fuel                 NaN  \n",
       "Driven (Kms)    187298.0  \n",
       "Gear                 NaN  \n",
       "Ownership            3.0  \n",
       "EMI (monthly)    32606.0  \n",
       "Car Age             12.0  "
      ]
     },
     "execution_count": 18,
     "metadata": {},
     "output_type": "execute_result"
    }
   ],
   "source": [
    "df.describe(include='all').T"
   ]
  },
  {
   "cell_type": "markdown",
   "metadata": {},
   "source": [
    "<span>Some statistical details cannot be calculated for object type so it gives 'NaN' values</span>"
   ]
  },
  {
   "cell_type": "markdown",
   "metadata": {},
   "source": [
    "### Analysing & Visualizing the Data"
   ]
  },
  {
   "cell_type": "markdown",
   "metadata": {},
   "source": [
    "### 1. Total Number of cars in different Cities"
   ]
  },
  {
   "cell_type": "code",
   "execution_count": 20,
   "metadata": {},
   "outputs": [
    {
     "data": {
      "text/plain": [
       "array(['New Delhi', 'Noida', 'Gurugram', 'Mumbai', 'Pune', 'Banglore',\n",
       "       'Hyderabad', 'Chennai', 'Kolkata', 'Ahemdabad', 'Faridabad'],\n",
       "      dtype=object)"
      ]
     },
     "execution_count": 20,
     "metadata": {},
     "output_type": "execute_result"
    }
   ],
   "source": [
    "df.Location.unique()"
   ]
  },
  {
   "cell_type": "code",
   "execution_count": 39,
   "metadata": {},
   "outputs": [
    {
     "data": {
      "image/png": "[encoded data removed]",
      "text/plain": [
       "<Figure size 1440x576 with 1 Axes>"
      ]
     },
     "metadata": {},
     "output_type": "display_data"
    }
   ],
   "source": [
    "plt.figure(facecolor='black', figsize=(20,8))\n",
    "a = sns.countplot(x='Location', data=df, edgecolor='black')\n",
    "for p in a.patches:\n",
    "    a.annotate(format(p.get_height(),'.1f'),(p.get_x()+p.get_width()/2.,p.get_height()),ha='center',\n",
    "              va='center',xytext=(0,6.5),textcoords='offset points',fontsize=14,color='gold',fontweight='bold')\n",
    "plt.title(\"Total number of Cars in different Cities\",fontsize=22,color='lightpink')\n",
    "plt.xticks(rotation=0,fontsize=14,fontweight='bold',color='white')\n",
    "plt.yticks(fontsize=12,fontweight='bold',color='black')\n",
    "a.set_facecolor('black')\n",
    "a.set_ylabel(\"No. of Cars\", fontsize =15, color='lightgreen',fontweight='bold')\n",
    "a.spines['left'].set_color('black')\n",
    "a.spines['top'].set_color('black')\n",
    "a.spines['bottom'].set_color('white')\n",
    "a.spines['right'].set_color('black')\n",
    "plt.grid(False)\n",
    "plt.show()"
   ]
  },
  {
   "cell_type": "markdown",
   "metadata": {},
   "source": [
    "### 2. Percentages of cars available for sale in different cities"
   ]
  },
  {
   "cell_type": "code",
   "execution_count": 41,
   "metadata": {},
   "outputs": [
    {
     "data": {
      "image/png": "[encoded data removed]",
      "text/plain": [
       "<Figure size 432x288 with 1 Axes>"
      ]
     },
     "metadata": {},
     "output_type": "display_data"
    }
   ],
   "source": [
    "count = df['Location'].value_counts()\n",
    "count = count.reset_index().rename(columns={'Location':'Count', 'index':'Location'})\n",
    "colors = sns.set_palette('dark:salmon', 20)\n",
    "patches,text, pcts= plt.pie(x='Count',labels='Location',autopct='%1.0f%%',data=count,colors=colors,radius=1.5,shadow=True,\n",
    "                    textprops={'fontsize': 14})\n",
    "for i, patch in enumerate(patches):\n",
    "    text[i].set_color(patch.get_facecolor())\n",
    "plt.setp(pcts, color='snow',fontweight='bold')\n",
    "plt.show()\n"
   ]
  },
  {
   "cell_type": "markdown",
   "metadata": {},
   "source": [
    "### 3. Number of different Brands in all cities"
   ]
  },
  {
   "cell_type": "code",
   "execution_count": 45,
   "metadata": {},
   "outputs": [],
   "source": [
    "brand_count = df['Car Brand'].value_counts().sort_values(ascending=False).reset_index().rename(columns={'index':'Brands', 'Car Brand':'Count'})"
   ]
  },
  {
   "cell_type": "code",
   "execution_count": 69,
   "metadata": {},
   "outputs": [
    {
     "data": {
      "image/png": "[encoded data removed]",
      "text/plain": [
       "<Figure size 2160x1440 with 1 Axes>"
      ]
     },
     "metadata": {},
     "output_type": "display_data"
    }
   ],
   "source": [
    "plt.figure(facecolor='black',figsize=(30,20))\n",
    "sns.set(rc={'figure.figsize':(28,18)})\n",
    "a = sns.barplot(y ='Brands',x='Count',data=brand_count,palette='spring_r',edgecolor='black')\n",
    "plt.xticks(rotation=0,fontsize=16,fontweight='bold',color='white')\n",
    "plt.yticks(fontsize=16,fontweight='bold',color='white')\n",
    "for p in a.patches:\n",
    "    width = p.get_width()\n",
    "    plt.text(1000+p.get_width(),p.get_y()+0.55*p.get_height(),'{:1.1f}'.format(width),ha='center',\n",
    "             va='center',fontsize=20,color='white',fontweight='bold')\n",
    "a.set_xlabel(\"No. of Cars\", fontsize = 18,color='lightgreen')\n",
    "a.set_ylabel(\"Brand Name\", fontsize =18, color='lightgreen')\n",
    "plt.title(\"Total number of different Brands in all Cities\",fontsize=28,color='cyan')\n",
    "a.set_facecolor('black')\n",
    "a.spines['left'].set_color('white')\n",
    "a.spines['top'].set_color('black')\n",
    "a.spines['bottom'].set_color('black')\n",
    "a.spines['right'].set_color('black')\n",
    "plt.grid(False)"
   ]
  },
  {
   "cell_type": "markdown",
   "metadata": {},
   "source": [
    "### 4. Average Price of all the brands"
   ]
  },
  {
   "cell_type": "code",
   "execution_count": 70,
   "metadata": {},
   "outputs": [],
   "source": [
    "avg_price = df.groupby(by=['Car Brand'])['Price'].mean().sort_values(ascending=False).reset_index().rename(\n",
    "    columns={'Price':'Avg Price'})\n",
    "avg_price['Avg Price'] = avg_price['Avg Price'].astype(int)"
   ]
  },
  {
   "cell_type": "code",
   "execution_count": 81,
   "metadata": {},
   "outputs": [
    {
     "data": {
      "image/png": "[encoded data removed]",
      "text/plain": [
       "<Figure size 2160x1440 with 1 Axes>"
      ]
     },
     "metadata": {},
     "output_type": "display_data"
    }
   ],
   "source": [
    "plt.figure(facecolor='black',figsize=(30,20))\n",
    "sns.set(rc={'figure.figsize':(28,18)})\n",
    "a = sns.barplot(y ='Car Brand',x='Avg Price',data=avg_price,palette='RdBu_r',edgecolor='none')\n",
    "plt.xticks(rotation=0,fontsize=16,fontweight='bold',color='black')\n",
    "plt.yticks(fontsize=16,fontweight='bold',color='gold')\n",
    "for p in a.patches:\n",
    "    width = p.get_width()\n",
    "    plt.text(31000+p.get_width(),p.get_y()+0.55*p.get_height(),'{:1.1f}'.format(width),ha='center',\n",
    "             va='center',fontsize=18,fontweight='bold',color='white')\n",
    "plt.title(\"Average Price of all Brands\",fontsize=28,color='pink')\n",
    "a.set_facecolor('black')\n",
    "a.spines['left'].set_color('white')\n",
    "a.spines['top'].set_color('black')\n",
    "a.spines['bottom'].set_color('black')\n",
    "a.spines['right'].set_color('black')\n",
    "plt.grid(False)"
   ]
  },
  {
   "cell_type": "code",
   "execution_count": null,
   "metadata": {},
   "outputs": [],
   "source": []
  }
 ],
 "metadata": {
  "kernelspec": {
   "display_name": "tf-gpu-26",
   "language": "python",
   "name": "tf-gpu-26"
  },
  "language_info": {
   "codemirror_mode": {
    "name": "ipython",
    "version": 3
   },
   "file_extension": ".py",
   "mimetype": "text/x-python",
   "name": "python",
   "nbconvert_exporter": "python",
   "pygments_lexer": "ipython3",
   "version": "3.9.7"
  }
 },
 "nbformat": 4,
 "nbformat_minor": 4
}
