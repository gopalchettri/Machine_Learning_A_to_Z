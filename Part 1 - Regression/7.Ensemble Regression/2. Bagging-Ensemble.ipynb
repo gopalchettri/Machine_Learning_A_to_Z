{
 "cells": [
  {
   "cell_type": "markdown",
   "metadata": {},
   "source": [
    "## Bagging Regressor"
   ]
  },
  {
   "cell_type": "code",
   "execution_count": 1,
   "metadata": {},
   "outputs": [],
   "source": [
    "# importing required libraries\n",
    "\n",
    "import pandas as pd\n",
    "import numpy as np\n",
    "\n",
    "from sklearn.metrics import r2_score\n",
    "from sklearn.model_selection import train_test_split\n",
    "\n",
    "from sklearn.linear_model import LinearRegression\n",
    "from sklearn.tree import DecisionTreeRegressor\n",
    "from sklearn.svm import SVR\n",
    "\n",
    "# Hyperparameters tunning library\n",
    "from sklearn.model_selection import GridSearchCV\n",
    "\n",
    "\n",
    "## Bagging Regressor\n",
    "\n",
    "from sklearn.ensemble import BaggingRegressor"
   ]
  },
  {
   "cell_type": "code",
   "execution_count": 2,
   "metadata": {},
   "outputs": [],
   "source": [
    "# importing datasets from sklearn library\n",
    "\n",
    "from sklearn import datasets\n",
    "\n",
    "boston = datasets.load_boston()\n"
   ]
  },
  {
   "cell_type": "code",
   "execution_count": 3,
   "metadata": {},
   "outputs": [
    {
     "name": "stdout",
     "output_type": "stream",
     "text": [
      "Dataset features names :['CRIM' 'ZN' 'INDUS' 'CHAS' 'NOX' 'RM' 'AGE' 'DIS' 'RAD' 'TAX' 'PTRATIO'\n",
      " 'B' 'LSTAT']\n",
      "Dataset feature size :(506, 13)\n",
      "Dataset target size :(506,)\n"
     ]
    }
   ],
   "source": [
    "# features and labels\n",
    "\n",
    "X_boston, y_boston =  boston.data, boston.target\n",
    "\n",
    "print('Dataset features names :' + str(boston.feature_names))\n",
    "print('Dataset feature size :' + str(boston.data.shape))\n",
    "print('Dataset target size :' + str(boston.target.shape))"
   ]
  },
  {
   "cell_type": "code",
   "execution_count": 4,
   "metadata": {},
   "outputs": [
    {
     "name": "stdout",
     "output_type": "stream",
     "text": [
      "Train feature size : (404, 13)\n",
      "Train label size : (404,)\n",
      "Test feature size : (102, 13)\n",
      "Test label size : (102,)\n"
     ]
    }
   ],
   "source": [
    "# splitting the data into train test \n",
    "\n",
    "X_train, X_test, y_train, y_test = train_test_split(X_boston, y_boston, test_size=0.20, train_size=0.80, random_state=2)\n",
    "\n",
    "print('Train feature size :', X_train.shape)\n",
    "print('Train label size :', y_train.shape)\n",
    "\n",
    "print('Test feature size :', X_test.shape)\n",
    "print('Test label size :', y_test.shape)"
   ]
  },
  {
   "cell_type": "code",
   "execution_count": 5,
   "metadata": {},
   "outputs": [],
   "source": [
    "# Creating multiple regressor model\n",
    "\n",
    "lr = LinearRegression()\n",
    "dt = DecisionTreeRegressor()\n",
    "svr = SVR()"
   ]
  },
  {
   "cell_type": "code",
   "execution_count": 6,
   "metadata": {},
   "outputs": [
    {
     "data": {
      "text/plain": [
       "DecisionTreeRegressor()"
      ]
     },
     "execution_count": 6,
     "metadata": {},
     "output_type": "execute_result"
    }
   ],
   "source": [
    "lr.fit(X_train, y_train)\n",
    "svr.fit(X_train, y_train)\n",
    "dt.fit(X_train, y_train)"
   ]
  },
  {
   "cell_type": "code",
   "execution_count": 7,
   "metadata": {},
   "outputs": [],
   "source": [
    "y_pred_lr = lr.predict(X_test)\n",
    "y_pred_svr = svr.predict(X_test)\n",
    "y_pred_dt = dt.predict(X_test)"
   ]
  },
  {
   "cell_type": "code",
   "execution_count": 8,
   "metadata": {},
   "outputs": [
    {
     "name": "stdout",
     "output_type": "stream",
     "text": [
      "R^2 score for LR : 0.7789207451814428\n",
      "R^2 score for SVR : 0.2749755336369747\n",
      "R^2 score for DT : 0.7122129090467433\n"
     ]
    }
   ],
   "source": [
    "print(\"R^2 score for LR :\", r2_score(y_test, y_pred_lr))\n",
    "print(\"R^2 score for SVR :\", r2_score(y_test, y_pred_svr))\n",
    "print(\"R^2 score for DT :\", r2_score(y_test, y_pred_dt))"
   ]
  },
  {
   "cell_type": "markdown",
   "metadata": {},
   "source": [
    "As we can see Linear Regressor performed well "
   ]
  },
  {
   "cell_type": "markdown",
   "metadata": {},
   "source": [
    "## Implementing the Bagging with default features"
   ]
  },
  {
   "cell_type": "code",
   "execution_count": 9,
   "metadata": {},
   "outputs": [
    {
     "data": {
      "text/plain": [
       "BaggingRegressor(random_state=1)"
      ]
     },
     "execution_count": 9,
     "metadata": {},
     "output_type": "execute_result"
    }
   ],
   "source": [
    "# Implementing the Bagging with default features\n",
    "\n",
    "bag_regressor = BaggingRegressor(random_state=1)\n",
    "bag_regressor.fit(X_train, y_train)"
   ]
  },
  {
   "cell_type": "code",
   "execution_count": 10,
   "metadata": {},
   "outputs": [],
   "source": [
    "y_pred = bag_regressor.predict(X_test)"
   ]
  },
  {
   "cell_type": "code",
   "execution_count": 11,
   "metadata": {},
   "outputs": [
    {
     "name": "stdout",
     "output_type": "stream",
     "text": [
      "Training Coefficient of R^2 : 0.978\n",
      "Test Coefficient of R^2 : 0.861\n"
     ]
    }
   ],
   "source": [
    "print('Training Coefficient of R^2 : %.3f'%bag_regressor.score(X_train, y_train))\n",
    "print('Test Coefficient of R^2 : %.3f'%bag_regressor.score(X_test, y_test))"
   ]
  },
  {
   "cell_type": "markdown",
   "metadata": {},
   "source": [
    "As we can see the R^2 score for training is higher than Test, model is overfitting. Now we will use GridSearchCV to find best parameter to train the model to avoid overfitting"
   ]
  },
  {
   "cell_type": "code",
   "execution_count": 12,
   "metadata": {},
   "outputs": [
    {
     "name": "stdout",
     "output_type": "stream",
     "text": [
      "Fitting 5 folds for each of 1792 candidates, totalling 8960 fits\n",
      "Wall time: 6min 23s\n"
     ]
    },
    {
     "data": {
      "text/plain": [
       "GridSearchCV(cv=5, estimator=BaggingRegressor(n_jobs=-1, random_state=1),\n",
       "             n_jobs=-1,\n",
       "             param_grid={'base_estimator': [None, LinearRegression(), SVR(),\n",
       "                                            DecisionTreeRegressor()],\n",
       "                         'bootstrap': [True, False],\n",
       "                         'bootstrap_features': [True, False],\n",
       "                         'max_features': [0.25, 0.5, 0.8, 1.0],\n",
       "                         'max_samples': [0.25, 0.5, 0.8, 1.0],\n",
       "                         'n_estimators': [10, 20, 40, 50, 60, 80, 100]},\n",
       "             verbose=1)"
      ]
     },
     "execution_count": 12,
     "metadata": {},
     "output_type": "execute_result"
    }
   ],
   "source": [
    "%%time\n",
    "\n",
    "n_samples = boston.data.shape[0]\n",
    "n_features = boston.data.shape[1]\n",
    "\n",
    "params = {\n",
    "            'base_estimator':[None, LinearRegression(), SVR(), DecisionTreeRegressor()],\n",
    "            'n_estimators' :[10, 20, 40, 50, 60, 80, 100],\n",
    "            'max_samples' : [0.25, 0.5, 0.8, 1.0],\n",
    "            'max_features': [0.25, 0.5, 0.8, 1.0],\n",
    "            'bootstrap': [True, False],\n",
    "            'bootstrap_features': [True, False]\n",
    "         }\n",
    "\n",
    "bagging_regressor_grid = GridSearchCV(BaggingRegressor(random_state=1, n_jobs=-1), param_grid =params, cv=5, n_jobs=-1, verbose=1)\n",
    "bagging_regressor_grid.fit(X_train, y_train)"
   ]
  },
  {
   "cell_type": "code",
   "execution_count": 13,
   "metadata": {},
   "outputs": [
    {
     "name": "stdout",
     "output_type": "stream",
     "text": [
      "Train R^2 Score : 0.980\n",
      "Test R^2 Score : 0.870\n",
      "Best R^2 Score Through Grid Search : 0.877\n",
      "Best Parameters :  {'base_estimator': None, 'bootstrap': True, 'bootstrap_features': False, 'max_features': 1.0, 'max_samples': 1.0, 'n_estimators': 40}\n"
     ]
    }
   ],
   "source": [
    "print('Train R^2 Score : %.3f'%bagging_regressor_grid.best_estimator_.score(X_train, y_train))\n",
    "print('Test R^2 Score : %.3f'%bagging_regressor_grid.best_estimator_.score(X_test, y_test))\n",
    "print('Best R^2 Score Through Grid Search : %.3f'%bagging_regressor_grid.best_score_)\n",
    "print('Best Parameters : ',bagging_regressor_grid.best_params_)"
   ]
  },
  {
   "cell_type": "markdown",
   "metadata": {},
   "source": [
    "we can further train the model separately with best params and save the model"
   ]
  },
  {
   "cell_type": "code",
   "execution_count": null,
   "metadata": {},
   "outputs": [],
   "source": []
  }
 ],
 "metadata": {
  "kernelspec": {
   "display_name": "tf-gpu-26",
   "language": "python",
   "name": "tf-gpu-26"
  },
  "language_info": {
   "codemirror_mode": {
    "name": "ipython",
    "version": 3
   },
   "file_extension": ".py",
   "mimetype": "text/x-python",
   "name": "python",
   "nbconvert_exporter": "python",
   "pygments_lexer": "ipython3",
   "version": "3.9.7"
  }
 },
 "nbformat": 4,
 "nbformat_minor": 4
}
